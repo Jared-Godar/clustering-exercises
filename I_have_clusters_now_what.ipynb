{
 "cells": [
  {
   "cell_type": "markdown",
   "id": "9ae1c5b1",
   "metadata": {},
   "source": [
    "# Ok, so I have clusters... Now what?"
   ]
  },
  {
   "cell_type": "markdown",
   "id": "16831247",
   "metadata": {},
   "source": [
    "## Clusters are about providing options and insight\n",
    "\n",
    "> \"You know you've done clustering right when your clusters make sense and are meaningful\" - Maggie\n",
    "\n",
    "\n",
    "> \"The difference between a goat rodeo and making clusters is _using your clusters for deeper insight.\" - RO\n",
    "\n",
    "## So what are our options?\n",
    "- Step 1 is explore each cluster to compare and contrast the data in each.\n",
    "- Step 2 is to name your clusters if they make sense, in English. \"Manually\" naming the clusters is powerful stuff and very common with customer segmentation, threat detection, and elsewhere in industry! Try to name them, if you can.\n",
    "\n",
    "\n",
    "- Option 1: Use the clusters to simplify multiple other variables (dimensionality reduction)\n",
    "- Option 2: Use cluster names as a target variable in order to classify incoming new data into the appropriate cluster.\n",
    "- Option 3: Perform deeper EDA and modeling for each cluster (assuming we have a target variable, but its relationship is different on each cluster, or the interplay of other features is different on each feature)"
   ]
  },
  {
   "cell_type": "markdown",
   "id": "eab431d6",
   "metadata": {},
   "source": [
    "### Why Clustering\n",
    "\n",
    "- What are the drivers of clusters?\n",
    "- DBSCAN - density based, still uses distance, but not to a centroid but to neighboring points\n",
    "  - Hyperparameters for how many neighbors looking for\n",
    "- Kmeans isn't great with outliers\n",
    "  - Outliers skew centroid positions\n",
    "  - Doesn't identify outliers\n",
    "- DBSCAN\n",
    "  - Good for outlier detection"
   ]
  },
  {
   "cell_type": "code",
   "execution_count": 1,
   "id": "18806056",
   "metadata": {},
   "outputs": [],
   "source": [
    "import pandas as pd\n",
    "import numpy as np\n",
    "import seaborn as sns\n",
    "import matplotlib.pyplot as plt\n",
    "\n",
    "from sklearn.model_selection import train_test_split\n",
    "from sklearn.preprocessing import MinMaxScaler\n",
    "from sklearn.cluster import KMeans"
   ]
  },
  {
   "cell_type": "code",
   "execution_count": 2,
   "id": "fc89b65d",
   "metadata": {
    "scrolled": true
   },
   "outputs": [
    {
     "data": {
      "text/html": [
       "<div><div id=52ea6987-bc32-4c72-b277-5698cc9671b5 style=\"display:none; background-color:#9D6CFF; color:white; width:200px; height:30px; padding-left:5px; border-radius:4px; flex-direction:row; justify-content:space-around; align-items:center;\" onmouseover=\"this.style.backgroundColor='#BA9BF8'\" onmouseout=\"this.style.backgroundColor='#9D6CFF'\" onclick=\"window.commands?.execute('create-mitosheet-from-dataframe-output');\">See Full Dataframe in Mito</div> <script> if (window.commands.hasCommand('create-mitosheet-from-dataframe-output')) document.getElementById('52ea6987-bc32-4c72-b277-5698cc9671b5').style.display = 'flex' </script> <table border=\"1\" class=\"dataframe\">\n",
       "  <thead>\n",
       "    <tr style=\"text-align: right;\">\n",
       "      <th></th>\n",
       "      <th>gender</th>\n",
       "      <th>age</th>\n",
       "      <th>annual_income</th>\n",
       "      <th>spending_score</th>\n",
       "    </tr>\n",
       "    <tr>\n",
       "      <th>customer_id</th>\n",
       "      <th></th>\n",
       "      <th></th>\n",
       "      <th></th>\n",
       "      <th></th>\n",
       "    </tr>\n",
       "  </thead>\n",
       "  <tbody>\n",
       "    <tr>\n",
       "      <th>1</th>\n",
       "      <td>Male</td>\n",
       "      <td>19</td>\n",
       "      <td>15</td>\n",
       "      <td>39</td>\n",
       "    </tr>\n",
       "    <tr>\n",
       "      <th>2</th>\n",
       "      <td>Male</td>\n",
       "      <td>21</td>\n",
       "      <td>15</td>\n",
       "      <td>81</td>\n",
       "    </tr>\n",
       "    <tr>\n",
       "      <th>3</th>\n",
       "      <td>Female</td>\n",
       "      <td>20</td>\n",
       "      <td>16</td>\n",
       "      <td>6</td>\n",
       "    </tr>\n",
       "    <tr>\n",
       "      <th>4</th>\n",
       "      <td>Female</td>\n",
       "      <td>23</td>\n",
       "      <td>16</td>\n",
       "      <td>77</td>\n",
       "    </tr>\n",
       "    <tr>\n",
       "      <th>5</th>\n",
       "      <td>Female</td>\n",
       "      <td>31</td>\n",
       "      <td>17</td>\n",
       "      <td>40</td>\n",
       "    </tr>\n",
       "  </tbody>\n",
       "</table></div>"
      ],
      "text/plain": [
       "             gender  age  annual_income  spending_score\n",
       "customer_id                                            \n",
       "1              Male   19             15              39\n",
       "2              Male   21             15              81\n",
       "3            Female   20             16               6\n",
       "4            Female   23             16              77\n",
       "5            Female   31             17              40"
      ]
     },
     "execution_count": 2,
     "metadata": {},
     "output_type": "execute_result"
    }
   ],
   "source": [
    "# Acquire\n",
    "df = pd.read_csv('https://gist.githubusercontent.com/ryanorsinger/cc276eea59e8295204d1f581c8da509f/raw/2388559aef7a0700eb31e7604351364b16e99653/mall_customers.csv', index_col=\"customer_id\")\n",
    "df.head()"
   ]
  },
  {
   "cell_type": "markdown",
   "id": "c1752056",
   "metadata": {},
   "source": [
    "## Thoughs on data preparation\n",
    "- If if gender isn't a big impact on age, income, or spending score, we can drop that column.\n",
    "- KMeans does well with continuous values and not a bunch of one hot encoded columns for categories.\n",
    "- If the populations of each gender are significantly different, we could encode the gender column to boolean or 0/1 values. But BEWARE about clustering on a bunch of boolean (0/1) values, since the curse of dimensionality sets in rapidly with each new non-continuous feature.\n",
    "- I am choosing to leave outliers in the dataset to catch extremes in income/spending/age. (revisit later)"
   ]
  },
  {
   "cell_type": "code",
   "execution_count": 3,
   "id": "31ae8eee",
   "metadata": {},
   "outputs": [
    {
     "data": {
      "text/html": [
       "<div><div id=ecafdcb7-4e89-48af-a125-54dd8732f303 style=\"display:none; background-color:#9D6CFF; color:white; width:200px; height:30px; padding-left:5px; border-radius:4px; flex-direction:row; justify-content:space-around; align-items:center;\" onmouseover=\"this.style.backgroundColor='#BA9BF8'\" onmouseout=\"this.style.backgroundColor='#9D6CFF'\" onclick=\"window.commands?.execute('create-mitosheet-from-dataframe-output');\">See Full Dataframe in Mito</div> <script> if (window.commands.hasCommand('create-mitosheet-from-dataframe-output')) document.getElementById('ecafdcb7-4e89-48af-a125-54dd8732f303').style.display = 'flex' </script> <table border=\"1\" class=\"dataframe\">\n",
       "  <thead>\n",
       "    <tr>\n",
       "      <th></th>\n",
       "      <th colspan=\"5\" halign=\"left\">age</th>\n",
       "      <th colspan=\"5\" halign=\"left\">annual_income</th>\n",
       "      <th colspan=\"5\" halign=\"left\">spending_score</th>\n",
       "    </tr>\n",
       "    <tr>\n",
       "      <th></th>\n",
       "      <th>min</th>\n",
       "      <th>mean</th>\n",
       "      <th>median</th>\n",
       "      <th>std</th>\n",
       "      <th>max</th>\n",
       "      <th>min</th>\n",
       "      <th>mean</th>\n",
       "      <th>median</th>\n",
       "      <th>std</th>\n",
       "      <th>max</th>\n",
       "      <th>min</th>\n",
       "      <th>mean</th>\n",
       "      <th>median</th>\n",
       "      <th>std</th>\n",
       "      <th>max</th>\n",
       "    </tr>\n",
       "    <tr>\n",
       "      <th>gender</th>\n",
       "      <th></th>\n",
       "      <th></th>\n",
       "      <th></th>\n",
       "      <th></th>\n",
       "      <th></th>\n",
       "      <th></th>\n",
       "      <th></th>\n",
       "      <th></th>\n",
       "      <th></th>\n",
       "      <th></th>\n",
       "      <th></th>\n",
       "      <th></th>\n",
       "      <th></th>\n",
       "      <th></th>\n",
       "      <th></th>\n",
       "    </tr>\n",
       "  </thead>\n",
       "  <tbody>\n",
       "    <tr>\n",
       "      <th>Female</th>\n",
       "      <td>18</td>\n",
       "      <td>38.098214</td>\n",
       "      <td>35.0</td>\n",
       "      <td>12.644095</td>\n",
       "      <td>68</td>\n",
       "      <td>16</td>\n",
       "      <td>59.250000</td>\n",
       "      <td>60.0</td>\n",
       "      <td>26.011952</td>\n",
       "      <td>126</td>\n",
       "      <td>5</td>\n",
       "      <td>51.526786</td>\n",
       "      <td>50.0</td>\n",
       "      <td>24.11495</td>\n",
       "      <td>99</td>\n",
       "    </tr>\n",
       "    <tr>\n",
       "      <th>Male</th>\n",
       "      <td>18</td>\n",
       "      <td>39.806818</td>\n",
       "      <td>37.0</td>\n",
       "      <td>15.514812</td>\n",
       "      <td>70</td>\n",
       "      <td>15</td>\n",
       "      <td>62.227273</td>\n",
       "      <td>62.5</td>\n",
       "      <td>26.638373</td>\n",
       "      <td>137</td>\n",
       "      <td>1</td>\n",
       "      <td>48.511364</td>\n",
       "      <td>50.0</td>\n",
       "      <td>27.89677</td>\n",
       "      <td>97</td>\n",
       "    </tr>\n",
       "  </tbody>\n",
       "</table></div>"
      ],
      "text/plain": [
       "       age                                  annual_income                    \\\n",
       "       min       mean median        std max           min       mean median   \n",
       "gender                                                                        \n",
       "Female  18  38.098214   35.0  12.644095  68            16  59.250000   60.0   \n",
       "Male    18  39.806818   37.0  15.514812  70            15  62.227273   62.5   \n",
       "\n",
       "                       spending_score                                  \n",
       "              std  max            min       mean median       std max  \n",
       "gender                                                                 \n",
       "Female  26.011952  126              5  51.526786   50.0  24.11495  99  \n",
       "Male    26.638373  137              1  48.511364   50.0  27.89677  97  "
      ]
     },
     "execution_count": 3,
     "metadata": {},
     "output_type": "execute_result"
    }
   ],
   "source": [
    "# Looks like the central tendencies and \n",
    "df.groupby(\"gender\").agg([\"min\", \"mean\", \"median\", \"std\", \"max\"])"
   ]
  },
  {
   "cell_type": "code",
   "execution_count": null,
   "id": "6cb56932",
   "metadata": {},
   "outputs": [],
   "source": []
  },
  {
   "cell_type": "code",
   "execution_count": 4,
   "id": "101aa5d5",
   "metadata": {},
   "outputs": [],
   "source": [
    "# Based on the above insight\n",
    "# If we had time and wanted to be more certain, we could run t-tests for independence between gender and each numeric column\n",
    "df = df.drop(columns=\"gender\")"
   ]
  },
  {
   "cell_type": "code",
   "execution_count": 5,
   "id": "e8472d58",
   "metadata": {
    "scrolled": true
   },
   "outputs": [],
   "source": [
    "# For the sake of the low amount of observations, we'll work with the entire dataset\n",
    "train = df"
   ]
  },
  {
   "cell_type": "code",
   "execution_count": 7,
   "id": "8b2a353c",
   "metadata": {},
   "outputs": [
    {
     "data": {
      "text/html": [
       "<div><div id=534872c3-49e9-4d88-88a0-2247a86e4ee3 style=\"display:none; background-color:#9D6CFF; color:white; width:200px; height:30px; padding-left:5px; border-radius:4px; flex-direction:row; justify-content:space-around; align-items:center;\" onmouseover=\"this.style.backgroundColor='#BA9BF8'\" onmouseout=\"this.style.backgroundColor='#9D6CFF'\" onclick=\"window.commands?.execute('create-mitosheet-from-dataframe-output');\">See Full Dataframe in Mito</div> <script> if (window.commands.hasCommand('create-mitosheet-from-dataframe-output')) document.getElementById('534872c3-49e9-4d88-88a0-2247a86e4ee3').style.display = 'flex' </script> <table border=\"1\" class=\"dataframe\">\n",
       "  <thead>\n",
       "    <tr style=\"text-align: right;\">\n",
       "      <th></th>\n",
       "      <th>age</th>\n",
       "      <th>annual_income</th>\n",
       "      <th>spending_score</th>\n",
       "    </tr>\n",
       "    <tr>\n",
       "      <th>customer_id</th>\n",
       "      <th></th>\n",
       "      <th></th>\n",
       "      <th></th>\n",
       "    </tr>\n",
       "  </thead>\n",
       "  <tbody>\n",
       "    <tr>\n",
       "      <th>1</th>\n",
       "      <td>19</td>\n",
       "      <td>15</td>\n",
       "      <td>39</td>\n",
       "    </tr>\n",
       "    <tr>\n",
       "      <th>2</th>\n",
       "      <td>21</td>\n",
       "      <td>15</td>\n",
       "      <td>81</td>\n",
       "    </tr>\n",
       "    <tr>\n",
       "      <th>3</th>\n",
       "      <td>20</td>\n",
       "      <td>16</td>\n",
       "      <td>6</td>\n",
       "    </tr>\n",
       "    <tr>\n",
       "      <th>4</th>\n",
       "      <td>23</td>\n",
       "      <td>16</td>\n",
       "      <td>77</td>\n",
       "    </tr>\n",
       "    <tr>\n",
       "      <th>5</th>\n",
       "      <td>31</td>\n",
       "      <td>17</td>\n",
       "      <td>40</td>\n",
       "    </tr>\n",
       "  </tbody>\n",
       "</table></div>"
      ],
      "text/plain": [
       "             age  annual_income  spending_score\n",
       "customer_id                                    \n",
       "1             19             15              39\n",
       "2             21             15              81\n",
       "3             20             16               6\n",
       "4             23             16              77\n",
       "5             31             17              40"
      ]
     },
     "execution_count": 7,
     "metadata": {},
     "output_type": "execute_result"
    }
   ],
   "source": [
    "train.head()"
   ]
  },
  {
   "cell_type": "code",
   "execution_count": 6,
   "id": "8ce9a9e4",
   "metadata": {},
   "outputs": [
    {
     "data": {
      "text/html": [
       "<div><div id=5a56f488-dc5c-4e63-9d17-398bd18093a7 style=\"display:none; background-color:#9D6CFF; color:white; width:200px; height:30px; padding-left:5px; border-radius:4px; flex-direction:row; justify-content:space-around; align-items:center;\" onmouseover=\"this.style.backgroundColor='#BA9BF8'\" onmouseout=\"this.style.backgroundColor='#9D6CFF'\" onclick=\"window.commands?.execute('create-mitosheet-from-dataframe-output');\">See Full Dataframe in Mito</div> <script> if (window.commands.hasCommand('create-mitosheet-from-dataframe-output')) document.getElementById('5a56f488-dc5c-4e63-9d17-398bd18093a7').style.display = 'flex' </script> <table border=\"1\" class=\"dataframe\">\n",
       "  <thead>\n",
       "    <tr style=\"text-align: right;\">\n",
       "      <th></th>\n",
       "      <th>age</th>\n",
       "      <th>annual_income</th>\n",
       "      <th>spending_score</th>\n",
       "    </tr>\n",
       "    <tr>\n",
       "      <th>customer_id</th>\n",
       "      <th></th>\n",
       "      <th></th>\n",
       "      <th></th>\n",
       "    </tr>\n",
       "  </thead>\n",
       "  <tbody>\n",
       "    <tr>\n",
       "      <th>1</th>\n",
       "      <td>0.019231</td>\n",
       "      <td>0.000000</td>\n",
       "      <td>0.387755</td>\n",
       "    </tr>\n",
       "    <tr>\n",
       "      <th>2</th>\n",
       "      <td>0.057692</td>\n",
       "      <td>0.000000</td>\n",
       "      <td>0.816327</td>\n",
       "    </tr>\n",
       "    <tr>\n",
       "      <th>3</th>\n",
       "      <td>0.038462</td>\n",
       "      <td>0.008197</td>\n",
       "      <td>0.051020</td>\n",
       "    </tr>\n",
       "    <tr>\n",
       "      <th>4</th>\n",
       "      <td>0.096154</td>\n",
       "      <td>0.008197</td>\n",
       "      <td>0.775510</td>\n",
       "    </tr>\n",
       "    <tr>\n",
       "      <th>5</th>\n",
       "      <td>0.250000</td>\n",
       "      <td>0.016393</td>\n",
       "      <td>0.397959</td>\n",
       "    </tr>\n",
       "  </tbody>\n",
       "</table></div>"
      ],
      "text/plain": [
       "                  age  annual_income  spending_score\n",
       "customer_id                                         \n",
       "1            0.019231       0.000000        0.387755\n",
       "2            0.057692       0.000000        0.816327\n",
       "3            0.038462       0.008197        0.051020\n",
       "4            0.096154       0.008197        0.775510\n",
       "5            0.250000       0.016393        0.397959"
      ]
     },
     "execution_count": 6,
     "metadata": {},
     "output_type": "execute_result"
    }
   ],
   "source": [
    "# Scale age, income, and spending score features\n",
    "# make the thing\n",
    "scaler = MinMaxScaler()\n",
    "\n",
    "# fit the thing on train\n",
    "scaler.fit(train)\n",
    "\n",
    "# use the thing (scale train, validate, and test)\n",
    "train_scaled = scaler.transform(train)\n",
    "\n",
    "# If we had the validate and test sets\n",
    "# validate_scaled = scaler.transform(validate) \n",
    "# test_scaled = scaler.transform(test) if we had validate\n",
    "\n",
    "# turn the scaled arrays into dataframes\n",
    "train_scaled = pd.DataFrame(train_scaled, columns=train.columns, index=train.index)\n",
    "\n",
    "# If we had the validate and test \n",
    "# validate_scaled = pd.DataFrame(train_scaled, columns=validate.columns) \n",
    "# test_scaled = pd.DataFrame(train_scaled, columns=test.columns)\n",
    "train_scaled.head()"
   ]
  },
  {
   "cell_type": "code",
   "execution_count": 7,
   "id": "e63074e1",
   "metadata": {},
   "outputs": [
    {
     "data": {
      "text/plain": [
       "<seaborn.axisgrid.FacetGrid at 0x7f92288ba5b0>"
      ]
     },
     "execution_count": 7,
     "metadata": {},
     "output_type": "execute_result"
    },
    {
     "data": {
      "image/png": "[encoded data removed]",
      "text/plain": [
       "<Figure size 552.75x504 with 1 Axes>"
      ]
     },
     "metadata": {
      "needs_background": "light"
     },
     "output_type": "display_data"
    }
   ],
   "source": [
    "# We can plot a numeric x variable, a numeric y variable,\n",
    "# Here, we'll look at income vs. spending score broken out by gender with a hue for ages\n",
    "sns.relplot(data=train, x=\"annual_income\", y=\"spending_score\", hue='age', height=7, aspect=1).set(title=\"Income vs. Spending by age range\")"
   ]
  },
  {
   "cell_type": "code",
   "execution_count": 8,
   "id": "3f4276ce",
   "metadata": {},
   "outputs": [
    {
     "data": {
      "text/plain": [
       "<seaborn.axisgrid.FacetGrid at 0x7f92195417f0>"
      ]
     },
     "execution_count": 8,
     "metadata": {},
     "output_type": "execute_result"
    },
    {
     "data": {
      "image/png": "[encoded data removed]",
      "text/plain": [
       "<Figure size 556x504 with 1 Axes>"
      ]
     },
     "metadata": {
      "needs_background": "light"
     },
     "output_type": "display_data"
    }
   ],
   "source": [
    "# Notice that using a linear scalar (like MinMax or StandardScaler) does not change the shape/relationships of the data\n",
    "sns.relplot(data=train_scaled, x=\"annual_income\", y=\"spending_score\", hue='age', height=7, aspect=1).set(title=\"Income vs. Spending by age range\")"
   ]
  },
  {
   "cell_type": "markdown",
   "id": "44cd819d",
   "metadata": {},
   "source": [
    "### Takeaways from exploration:\n",
    "- Visually, there appear to be 5 discernible groupings based on income and spending score.\n",
    "- Some age similarities appear in some of those discernible groupings\n",
    "- The \"center\" group appears to have mixed ages.\n",
    "- But now let's visualize an elbow method to makes sure we're not seeing faces on Mars..."
   ]
  },
  {
   "cell_type": "code",
   "execution_count": 8,
   "id": "c3e72026",
   "metadata": {},
   "outputs": [
    {
     "data": {
      "image/png": "[encoded data removed]",
      "text/plain": [
       "<Figure size 648x432 with 1 Axes>"
      ]
     },
     "metadata": {},
     "output_type": "display_data"
    }
   ],
   "source": [
    "# Let's visualize an elbow method to see if inertia values support our visual hunch that there are 5 clear groups\n",
    "# lets plot inertia vs k\n",
    "\n",
    "with plt.style.context('seaborn-whitegrid'):\n",
    "    plt.figure(figsize=(9, 6))\n",
    "    pd.Series({k: KMeans(k, random_state=42).fit(train_scaled).inertia_ for k in range(2, 12)}).plot(marker='x')\n",
    "    plt.xticks(range(2, 12))\n",
    "    plt.xlabel('k')\n",
    "    plt.ylabel('inertia')\n",
    "    plt.title('Change in inertia as k increases')"
   ]
  },
  {
   "cell_type": "code",
   "execution_count": 9,
   "id": "e9e9230f",
   "metadata": {},
   "outputs": [
    {
     "data": {
      "text/html": [
       "<div><div id=19bf8f7d-aaf2-4901-a0ee-df1791acffb7 style=\"display:none; background-color:#9D6CFF; color:white; width:200px; height:30px; padding-left:5px; border-radius:4px; flex-direction:row; justify-content:space-around; align-items:center;\" onmouseover=\"this.style.backgroundColor='#BA9BF8'\" onmouseout=\"this.style.backgroundColor='#9D6CFF'\" onclick=\"window.commands?.execute('create-mitosheet-from-dataframe-output');\">See Full Dataframe in Mito</div> <script> if (window.commands.hasCommand('create-mitosheet-from-dataframe-output')) document.getElementById('19bf8f7d-aaf2-4901-a0ee-df1791acffb7').style.display = 'flex' </script> <table border=\"1\" class=\"dataframe\">\n",
       "  <thead>\n",
       "    <tr style=\"text-align: right;\">\n",
       "      <th></th>\n",
       "      <th>age</th>\n",
       "      <th>annual_income</th>\n",
       "      <th>spending_score</th>\n",
       "      <th>cluster</th>\n",
       "    </tr>\n",
       "    <tr>\n",
       "      <th>customer_id</th>\n",
       "      <th></th>\n",
       "      <th></th>\n",
       "      <th></th>\n",
       "      <th></th>\n",
       "    </tr>\n",
       "  </thead>\n",
       "  <tbody>\n",
       "    <tr>\n",
       "      <th>1</th>\n",
       "      <td>0.019231</td>\n",
       "      <td>0.000000</td>\n",
       "      <td>0.387755</td>\n",
       "      <td>2</td>\n",
       "    </tr>\n",
       "    <tr>\n",
       "      <th>2</th>\n",
       "      <td>0.057692</td>\n",
       "      <td>0.000000</td>\n",
       "      <td>0.816327</td>\n",
       "      <td>4</td>\n",
       "    </tr>\n",
       "    <tr>\n",
       "      <th>3</th>\n",
       "      <td>0.038462</td>\n",
       "      <td>0.008197</td>\n",
       "      <td>0.051020</td>\n",
       "      <td>2</td>\n",
       "    </tr>\n",
       "    <tr>\n",
       "      <th>4</th>\n",
       "      <td>0.096154</td>\n",
       "      <td>0.008197</td>\n",
       "      <td>0.775510</td>\n",
       "      <td>4</td>\n",
       "    </tr>\n",
       "    <tr>\n",
       "      <th>5</th>\n",
       "      <td>0.250000</td>\n",
       "      <td>0.016393</td>\n",
       "      <td>0.397959</td>\n",
       "      <td>2</td>\n",
       "    </tr>\n",
       "  </tbody>\n",
       "</table></div>"
      ],
      "text/plain": [
       "                  age  annual_income  spending_score  cluster\n",
       "customer_id                                                  \n",
       "1            0.019231       0.000000        0.387755        2\n",
       "2            0.057692       0.000000        0.816327        4\n",
       "3            0.038462       0.008197        0.051020        2\n",
       "4            0.096154       0.008197        0.775510        4\n",
       "5            0.250000       0.016393        0.397959        2"
      ]
     },
     "execution_count": 9,
     "metadata": {},
     "output_type": "execute_result"
    }
   ],
   "source": [
    "# Let's move forward with k=5\n",
    "kmeans = KMeans(n_clusters = 5, random_state=42)\n",
    "kmeans.fit(train_scaled)\n",
    "\n",
    "# And assign the cluster number to a column on the dataframe\n",
    "train_scaled[\"cluster\"] = kmeans.predict(train_scaled)\n",
    "train_scaled.head()"
   ]
  },
  {
   "cell_type": "code",
   "execution_count": 10,
   "id": "32cc383f",
   "metadata": {},
   "outputs": [
    {
     "data": {
      "text/plain": [
       "0    58\n",
       "2    49\n",
       "1    40\n",
       "3    30\n",
       "4    23\n",
       "Name: cluster, dtype: int64"
      ]
     },
     "execution_count": 10,
     "metadata": {},
     "output_type": "execute_result"
    }
   ],
   "source": [
    "train_scaled.cluster.value_counts()"
   ]
  },
  {
   "cell_type": "markdown",
   "id": "4ac0f0d4",
   "metadata": {},
   "source": [
    "## So we have clusters and 5 looks promising...\n",
    "\n",
    "![caution road sign saying \"now what?\" to show confusion](now_what_roadsign.jpeg)\n",
    "\n",
    "> \"The difference between a goat rodeo and making clusters is _using your clusters for deeper insight_.\" - RO\n",
    "\n",
    "## So what are our options?\n",
    "- Step 1 is explore each cluster to compare and contrast the data in each. \n",
    "- Step 2 is to name your clusters if they make sense, in English. \"Manually\" naming the clusters is powerful stuff and very common with customer segmentation, threat detection, and elsewhere in industry! Try to name them, if you can.\n",
    "- Option 1: Use the clusters to simplify multiple other variables (dimensionality reduction)\n",
    "- Option 2: Use cluster names as a target variable in order to classify incoming new data into the appropriate cluster.\n",
    "- Option 3: Perform deeper EDA and modeling for each cluster (assuming we have a target variable, but its relationship is different on each cluster, or the interplay of other features is different on each feature)"
   ]
  },
  {
   "cell_type": "markdown",
   "id": "58d6af86",
   "metadata": {},
   "source": [
    "### Step 1: Explore each cluster to see how they are similar or different\n",
    "- Visualizations\n",
    "- Descriptive statistics\n",
    "- Take the time to get to know each cluster"
   ]
  },
  {
   "cell_type": "code",
   "execution_count": 13,
   "id": "b3f4231c",
   "metadata": {},
   "outputs": [
    {
     "data": {
      "text/html": [
       "<div><div id=547253d4-75b6-4400-8c53-146210f1621c style=\"display:none; background-color:#9D6CFF; color:white; width:200px; height:30px; padding-left:5px; border-radius:4px; flex-direction:row; justify-content:space-around; align-items:center;\" onmouseover=\"this.style.backgroundColor='#BA9BF8'\" onmouseout=\"this.style.backgroundColor='#9D6CFF'\" onclick=\"window.commands?.execute('create-mitosheet-from-dataframe-output');\">See Full Dataframe in Mito</div> <script> if (window.commands.hasCommand('create-mitosheet-from-dataframe-output')) document.getElementById('547253d4-75b6-4400-8c53-146210f1621c').style.display = 'flex' </script> <table border=\"1\" class=\"dataframe\">\n",
       "  <thead>\n",
       "    <tr style=\"text-align: right;\">\n",
       "      <th></th>\n",
       "      <th>age</th>\n",
       "      <th>annual_income</th>\n",
       "      <th>spending_score</th>\n",
       "      <th>cluster</th>\n",
       "    </tr>\n",
       "    <tr>\n",
       "      <th>customer_id</th>\n",
       "      <th></th>\n",
       "      <th></th>\n",
       "      <th></th>\n",
       "      <th></th>\n",
       "    </tr>\n",
       "  </thead>\n",
       "  <tbody>\n",
       "    <tr>\n",
       "      <th>1</th>\n",
       "      <td>0.019231</td>\n",
       "      <td>0.000000</td>\n",
       "      <td>0.387755</td>\n",
       "      <td>general-younger</td>\n",
       "    </tr>\n",
       "    <tr>\n",
       "      <th>2</th>\n",
       "      <td>0.057692</td>\n",
       "      <td>0.000000</td>\n",
       "      <td>0.816327</td>\n",
       "      <td>spendthrift-young</td>\n",
       "    </tr>\n",
       "    <tr>\n",
       "      <th>3</th>\n",
       "      <td>0.038462</td>\n",
       "      <td>0.008197</td>\n",
       "      <td>0.051020</td>\n",
       "      <td>general-younger</td>\n",
       "    </tr>\n",
       "    <tr>\n",
       "      <th>4</th>\n",
       "      <td>0.096154</td>\n",
       "      <td>0.008197</td>\n",
       "      <td>0.775510</td>\n",
       "      <td>spendthrift-young</td>\n",
       "    </tr>\n",
       "    <tr>\n",
       "      <th>5</th>\n",
       "      <td>0.250000</td>\n",
       "      <td>0.016393</td>\n",
       "      <td>0.397959</td>\n",
       "      <td>general-younger</td>\n",
       "    </tr>\n",
       "  </tbody>\n",
       "</table></div>"
      ],
      "text/plain": [
       "                  age  annual_income  spending_score            cluster\n",
       "customer_id                                                            \n",
       "1            0.019231       0.000000        0.387755    general-younger\n",
       "2            0.057692       0.000000        0.816327  spendthrift-young\n",
       "3            0.038462       0.008197        0.051020    general-younger\n",
       "4            0.096154       0.008197        0.775510  spendthrift-young\n",
       "5            0.250000       0.016393        0.397959    general-younger"
      ]
     },
     "execution_count": 13,
     "metadata": {},
     "output_type": "execute_result"
    }
   ],
   "source": [
    "train_scaled.head()"
   ]
  },
  {
   "cell_type": "code",
   "execution_count": 11,
   "id": "bfcf662d",
   "metadata": {},
   "outputs": [
    {
     "data": {
      "text/plain": [
       "<seaborn.axisgrid.FacetGrid at 0x7f8cb8e55850>"
      ]
     },
     "execution_count": 11,
     "metadata": {},
     "output_type": "execute_result"
    },
    {
     "data": {
      "image/png": "[encoded data removed]",
      "text/plain": [
       "<Figure size 771.875x1080 with 5 Axes>"
      ]
     },
     "metadata": {
      "needs_background": "light"
     },
     "output_type": "display_data"
    }
   ],
   "source": [
    "# plot out income vs. spending with regard to the cluster and age\n",
    "sns.relplot(data=train_scaled, x=\"annual_income\", y=\"spending_score\", col=\"cluster\", hue=\"age\", col_wrap=2)"
   ]
  },
  {
   "cell_type": "markdown",
   "id": "f1728885",
   "metadata": {},
   "source": [
    "Would like to transform from clustering on scaled data then plotting unscaled data - dollars and years and real world values"
   ]
  },
  {
   "cell_type": "markdown",
   "id": "05840298",
   "metadata": {},
   "source": [
    "## Step 2: name the clusters in English, if they make sense!\n",
    "\n",
    "> This is a whole entire job/career for some folks both in/out of technical/data-centric roles."
   ]
  },
  {
   "cell_type": "code",
   "execution_count": 12,
   "id": "e1410fe3",
   "metadata": {},
   "outputs": [
    {
     "data": {
      "text/html": [
       "<div><div id=1f66536c-23ec-48c8-9b2d-8243d2fe8e00 style=\"display:none; background-color:#9D6CFF; color:white; width:200px; height:30px; padding-left:5px; border-radius:4px; flex-direction:row; justify-content:space-around; align-items:center;\" onmouseover=\"this.style.backgroundColor='#BA9BF8'\" onmouseout=\"this.style.backgroundColor='#9D6CFF'\" onclick=\"window.commands?.execute('create-mitosheet-from-dataframe-output');\">See Full Dataframe in Mito</div> <script> if (window.commands.hasCommand('create-mitosheet-from-dataframe-output')) document.getElementById('1f66536c-23ec-48c8-9b2d-8243d2fe8e00').style.display = 'flex' </script> <table border=\"1\" class=\"dataframe\">\n",
       "  <thead>\n",
       "    <tr style=\"text-align: right;\">\n",
       "      <th></th>\n",
       "      <th>age</th>\n",
       "      <th>annual_income</th>\n",
       "      <th>spending_score</th>\n",
       "      <th>cluster</th>\n",
       "    </tr>\n",
       "    <tr>\n",
       "      <th>customer_id</th>\n",
       "      <th></th>\n",
       "      <th></th>\n",
       "      <th></th>\n",
       "      <th></th>\n",
       "    </tr>\n",
       "  </thead>\n",
       "  <tbody>\n",
       "    <tr>\n",
       "      <th>1</th>\n",
       "      <td>0.019231</td>\n",
       "      <td>0.000000</td>\n",
       "      <td>0.387755</td>\n",
       "      <td>general-younger</td>\n",
       "    </tr>\n",
       "    <tr>\n",
       "      <th>2</th>\n",
       "      <td>0.057692</td>\n",
       "      <td>0.000000</td>\n",
       "      <td>0.816327</td>\n",
       "      <td>spendthrift-young</td>\n",
       "    </tr>\n",
       "    <tr>\n",
       "      <th>3</th>\n",
       "      <td>0.038462</td>\n",
       "      <td>0.008197</td>\n",
       "      <td>0.051020</td>\n",
       "      <td>general-younger</td>\n",
       "    </tr>\n",
       "    <tr>\n",
       "      <th>4</th>\n",
       "      <td>0.096154</td>\n",
       "      <td>0.008197</td>\n",
       "      <td>0.775510</td>\n",
       "      <td>spendthrift-young</td>\n",
       "    </tr>\n",
       "    <tr>\n",
       "      <th>5</th>\n",
       "      <td>0.250000</td>\n",
       "      <td>0.016393</td>\n",
       "      <td>0.397959</td>\n",
       "      <td>general-younger</td>\n",
       "    </tr>\n",
       "  </tbody>\n",
       "</table></div>"
      ],
      "text/plain": [
       "                  age  annual_income  spending_score            cluster\n",
       "customer_id                                                            \n",
       "1            0.019231       0.000000        0.387755    general-younger\n",
       "2            0.057692       0.000000        0.816327  spendthrift-young\n",
       "3            0.038462       0.008197        0.051020    general-younger\n",
       "4            0.096154       0.008197        0.775510  spendthrift-young\n",
       "5            0.250000       0.016393        0.397959    general-younger"
      ]
     },
     "execution_count": 12,
     "metadata": {},
     "output_type": "execute_result"
    }
   ],
   "source": [
    "train_scaled.cluster = train_scaled.cluster.map({\n",
    "    0: \"general-older\",\n",
    "    1: \"target\",\n",
    "    2: \"general-younger\",\n",
    "    3: \"frugal-high-income\",\n",
    "    4: \"spendthrift-young\",\n",
    "})\n",
    "\n",
    "train_scaled.head()"
   ]
  },
  {
   "cell_type": "code",
   "execution_count": 14,
   "id": "e44c76f6",
   "metadata": {},
   "outputs": [
    {
     "data": {
      "text/plain": [
       "<seaborn.axisgrid.FacetGrid at 0x7f91f899b040>"
      ]
     },
     "execution_count": 14,
     "metadata": {},
     "output_type": "execute_result"
    },
    {
     "data": {
      "image/png": "[encoded data removed]",
      "text/plain": [
       "<Figure size 772x1080 with 5 Axes>"
      ]
     },
     "metadata": {
      "needs_background": "light"
     },
     "output_type": "display_data"
    }
   ],
   "source": [
    "sns.relplot(data=train_scaled, x=\"annual_income\", y=\"spending_score\", col=\"cluster\", hue=\"age\", col_wrap=2)"
   ]
  },
  {
   "cell_type": "code",
   "execution_count": 15,
   "id": "0106e6fe",
   "metadata": {},
   "outputs": [
    {
     "data": {
      "text/html": [
       "<div>\n",
       "<style scoped>\n",
       "    .dataframe tbody tr th:only-of-type {\n",
       "        vertical-align: middle;\n",
       "    }\n",
       "\n",
       "    .dataframe tbody tr th {\n",
       "        vertical-align: top;\n",
       "    }\n",
       "\n",
       "    .dataframe thead th {\n",
       "        text-align: right;\n",
       "    }\n",
       "</style>\n",
       "<table border=\"1\" class=\"dataframe\">\n",
       "  <thead>\n",
       "    <tr style=\"text-align: right;\">\n",
       "      <th></th>\n",
       "      <th>age</th>\n",
       "      <th>annual_income</th>\n",
       "      <th>spending_score</th>\n",
       "    </tr>\n",
       "    <tr>\n",
       "      <th>cluster</th>\n",
       "      <th></th>\n",
       "      <th></th>\n",
       "      <th></th>\n",
       "    </tr>\n",
       "  </thead>\n",
       "  <tbody>\n",
       "    <tr>\n",
       "      <th>frugal-high-income</th>\n",
       "      <td>0.500000</td>\n",
       "      <td>0.615847</td>\n",
       "      <td>0.172789</td>\n",
       "    </tr>\n",
       "    <tr>\n",
       "      <th>general-older</th>\n",
       "      <td>0.722149</td>\n",
       "      <td>0.274449</td>\n",
       "      <td>0.416080</td>\n",
       "    </tr>\n",
       "    <tr>\n",
       "      <th>general-younger</th>\n",
       "      <td>0.174254</td>\n",
       "      <td>0.303111</td>\n",
       "      <td>0.408580</td>\n",
       "    </tr>\n",
       "    <tr>\n",
       "      <th>spendthrift-young</th>\n",
       "      <td>0.144649</td>\n",
       "      <td>0.092659</td>\n",
       "      <td>0.791482</td>\n",
       "    </tr>\n",
       "    <tr>\n",
       "      <th>target</th>\n",
       "      <td>0.286058</td>\n",
       "      <td>0.582787</td>\n",
       "      <td>0.821684</td>\n",
       "    </tr>\n",
       "  </tbody>\n",
       "</table>\n",
       "</div>"
      ],
      "text/plain": [
       "                         age  annual_income  spending_score\n",
       "cluster                                                    \n",
       "frugal-high-income  0.500000       0.615847        0.172789\n",
       "general-older       0.722149       0.274449        0.416080\n",
       "general-younger     0.174254       0.303111        0.408580\n",
       "spendthrift-young   0.144649       0.092659        0.791482\n",
       "target              0.286058       0.582787        0.821684"
      ]
     },
     "execution_count": 15,
     "metadata": {},
     "output_type": "execute_result"
    }
   ],
   "source": [
    "train_scaled.groupby(\"cluster\").mean()"
   ]
  },
  {
   "cell_type": "code",
   "execution_count": 15,
   "id": "18b9f0c3",
   "metadata": {},
   "outputs": [
    {
     "data": {
      "text/html": [
       "<div><div id=293ac142-3b41-4c20-96f4-0e377dc1ae27 style=\"display:none; background-color:#9D6CFF; color:white; width:200px; height:30px; padding-left:5px; border-radius:4px; flex-direction:row; justify-content:space-around; align-items:center;\" onmouseover=\"this.style.backgroundColor='#BA9BF8'\" onmouseout=\"this.style.backgroundColor='#9D6CFF'\" onclick=\"window.commands?.execute('create-mitosheet-from-dataframe-output');\">See Full Dataframe in Mito</div> <script> if (window.commands.hasCommand('create-mitosheet-from-dataframe-output')) document.getElementById('293ac142-3b41-4c20-96f4-0e377dc1ae27').style.display = 'flex' </script> <table border=\"1\" class=\"dataframe\">\n",
       "  <thead>\n",
       "    <tr style=\"text-align: right;\">\n",
       "      <th></th>\n",
       "      <th>age</th>\n",
       "      <th>annual_income</th>\n",
       "      <th>spending_score</th>\n",
       "      <th>cluster</th>\n",
       "    </tr>\n",
       "    <tr>\n",
       "      <th>customer_id</th>\n",
       "      <th></th>\n",
       "      <th></th>\n",
       "      <th></th>\n",
       "      <th></th>\n",
       "    </tr>\n",
       "  </thead>\n",
       "  <tbody>\n",
       "    <tr>\n",
       "      <th>1</th>\n",
       "      <td>0.019231</td>\n",
       "      <td>0.000000</td>\n",
       "      <td>0.387755</td>\n",
       "      <td>general-younger</td>\n",
       "    </tr>\n",
       "    <tr>\n",
       "      <th>2</th>\n",
       "      <td>0.057692</td>\n",
       "      <td>0.000000</td>\n",
       "      <td>0.816327</td>\n",
       "      <td>spendthrift-young</td>\n",
       "    </tr>\n",
       "    <tr>\n",
       "      <th>3</th>\n",
       "      <td>0.038462</td>\n",
       "      <td>0.008197</td>\n",
       "      <td>0.051020</td>\n",
       "      <td>general-younger</td>\n",
       "    </tr>\n",
       "    <tr>\n",
       "      <th>4</th>\n",
       "      <td>0.096154</td>\n",
       "      <td>0.008197</td>\n",
       "      <td>0.775510</td>\n",
       "      <td>spendthrift-young</td>\n",
       "    </tr>\n",
       "    <tr>\n",
       "      <th>5</th>\n",
       "      <td>0.250000</td>\n",
       "      <td>0.016393</td>\n",
       "      <td>0.397959</td>\n",
       "      <td>general-younger</td>\n",
       "    </tr>\n",
       "  </tbody>\n",
       "</table></div>"
      ],
      "text/plain": [
       "                  age  annual_income  spending_score            cluster\n",
       "customer_id                                                            \n",
       "1            0.019231       0.000000        0.387755    general-younger\n",
       "2            0.057692       0.000000        0.816327  spendthrift-young\n",
       "3            0.038462       0.008197        0.051020    general-younger\n",
       "4            0.096154       0.008197        0.775510  spendthrift-young\n",
       "5            0.250000       0.016393        0.397959    general-younger"
      ]
     },
     "execution_count": 15,
     "metadata": {},
     "output_type": "execute_result"
    }
   ],
   "source": [
    "train_scaled.head()"
   ]
  },
  {
   "cell_type": "code",
   "execution_count": 16,
   "id": "f9aeafc4",
   "metadata": {},
   "outputs": [
    {
     "data": {
      "text/html": [
       "<div><div id=77897d9b-723c-4e77-9ea7-d832177af12d style=\"display:none; background-color:#9D6CFF; color:white; width:200px; height:30px; padding-left:5px; border-radius:4px; flex-direction:row; justify-content:space-around; align-items:center;\" onmouseover=\"this.style.backgroundColor='#BA9BF8'\" onmouseout=\"this.style.backgroundColor='#9D6CFF'\" onclick=\"window.commands?.execute('create-mitosheet-from-dataframe-output');\">See Full Dataframe in Mito</div> <script> if (window.commands.hasCommand('create-mitosheet-from-dataframe-output')) document.getElementById('77897d9b-723c-4e77-9ea7-d832177af12d').style.display = 'flex' </script> <table border=\"1\" class=\"dataframe\">\n",
       "  <thead>\n",
       "    <tr style=\"text-align: right;\">\n",
       "      <th></th>\n",
       "      <th>age</th>\n",
       "      <th>annual_income</th>\n",
       "      <th>spending_score</th>\n",
       "    </tr>\n",
       "    <tr>\n",
       "      <th>customer_id</th>\n",
       "      <th></th>\n",
       "      <th></th>\n",
       "      <th></th>\n",
       "    </tr>\n",
       "  </thead>\n",
       "  <tbody>\n",
       "    <tr>\n",
       "      <th>7</th>\n",
       "      <td>35</td>\n",
       "      <td>18</td>\n",
       "      <td>6</td>\n",
       "    </tr>\n",
       "    <tr>\n",
       "      <th>91</th>\n",
       "      <td>68</td>\n",
       "      <td>59</td>\n",
       "      <td>55</td>\n",
       "    </tr>\n",
       "    <tr>\n",
       "      <th>38</th>\n",
       "      <td>30</td>\n",
       "      <td>34</td>\n",
       "      <td>73</td>\n",
       "    </tr>\n",
       "    <tr>\n",
       "      <th>173</th>\n",
       "      <td>36</td>\n",
       "      <td>87</td>\n",
       "      <td>10</td>\n",
       "    </tr>\n",
       "    <tr>\n",
       "      <th>26</th>\n",
       "      <td>29</td>\n",
       "      <td>28</td>\n",
       "      <td>82</td>\n",
       "    </tr>\n",
       "    <tr>\n",
       "      <th>...</th>\n",
       "      <td>...</td>\n",
       "      <td>...</td>\n",
       "      <td>...</td>\n",
       "    </tr>\n",
       "    <tr>\n",
       "      <th>160</th>\n",
       "      <td>30</td>\n",
       "      <td>78</td>\n",
       "      <td>73</td>\n",
       "    </tr>\n",
       "    <tr>\n",
       "      <th>198</th>\n",
       "      <td>32</td>\n",
       "      <td>126</td>\n",
       "      <td>74</td>\n",
       "    </tr>\n",
       "    <tr>\n",
       "      <th>149</th>\n",
       "      <td>34</td>\n",
       "      <td>78</td>\n",
       "      <td>22</td>\n",
       "    </tr>\n",
       "    <tr>\n",
       "      <th>51</th>\n",
       "      <td>49</td>\n",
       "      <td>42</td>\n",
       "      <td>52</td>\n",
       "    </tr>\n",
       "    <tr>\n",
       "      <th>66</th>\n",
       "      <td>18</td>\n",
       "      <td>48</td>\n",
       "      <td>59</td>\n",
       "    </tr>\n",
       "  </tbody>\n",
       "</table></div>"
      ],
      "text/plain": [
       "             age  annual_income  spending_score\n",
       "customer_id                                    \n",
       "7             35             18               6\n",
       "91            68             59              55\n",
       "38            30             34              73\n",
       "173           36             87              10\n",
       "26            29             28              82\n",
       "146           28             77              97\n",
       "71            70             49              55\n",
       "166           36             85              75\n",
       "92            18             59              41\n",
       "6             22             17              76\n",
       "119           51             67              43\n",
       "111           65             63              52\n",
       "22            25             24              73\n",
       "53            31             43              54\n",
       "94            40             60              40\n",
       "193           33            113               8\n",
       "82            38             54              55\n",
       "117           63             65              43\n",
       "48            27             40              47\n",
       "184           29             98              88\n",
       "183           46             98              15\n",
       "170           32             87              63\n",
       "145           25             77              12\n",
       "177           58             88              15\n",
       "112           19             63              54\n",
       "25            54             28              14\n",
       "56            47             43              41\n",
       "139           19             74              10\n",
       "113           38             64              42\n",
       "136           29             73              88\n",
       "98            27             60              50\n",
       "194           38            113              91\n",
       "1             19             15              39\n",
       "190           36            103              85\n",
       "122           38             67              40\n",
       "23            46             25               5\n",
       "124           39             69              91\n",
       "115           18             65              48\n",
       "76            26             54              54\n",
       "143           28             76              40\n",
       "196           35            120              79\n",
       "87            55             57              58\n",
       "156           27             78              89\n",
       "61            70             46              56\n",
       "50            31             40              42\n",
       "160           30             78              73\n",
       "198           32            126              74\n",
       "149           34             78              22\n",
       "51            49             42              52\n",
       "66            18             48              59"
      ]
     },
     "execution_count": 16,
     "metadata": {},
     "output_type": "execute_result"
    }
   ],
   "source": [
    "train.sample(50)"
   ]
  },
  {
   "cell_type": "code",
   "execution_count": 16,
   "id": "b4253592",
   "metadata": {},
   "outputs": [
    {
     "data": {
      "text/html": [
       "<div>\n",
       "<style scoped>\n",
       "    .dataframe tbody tr th:only-of-type {\n",
       "        vertical-align: middle;\n",
       "    }\n",
       "\n",
       "    .dataframe tbody tr th {\n",
       "        vertical-align: top;\n",
       "    }\n",
       "\n",
       "    .dataframe thead th {\n",
       "        text-align: right;\n",
       "    }\n",
       "</style>\n",
       "<table border=\"1\" class=\"dataframe\">\n",
       "  <thead>\n",
       "    <tr style=\"text-align: right;\">\n",
       "      <th></th>\n",
       "      <th>age</th>\n",
       "      <th>annual_income</th>\n",
       "      <th>spending_score</th>\n",
       "    </tr>\n",
       "    <tr>\n",
       "      <th>cluster</th>\n",
       "      <th></th>\n",
       "      <th></th>\n",
       "      <th></th>\n",
       "    </tr>\n",
       "  </thead>\n",
       "  <tbody>\n",
       "    <tr>\n",
       "      <th>frugal-high-income</th>\n",
       "      <td>0.269231</td>\n",
       "      <td>0.459016</td>\n",
       "      <td>0.000000</td>\n",
       "    </tr>\n",
       "    <tr>\n",
       "      <th>general-older</th>\n",
       "      <td>0.461538</td>\n",
       "      <td>0.032787</td>\n",
       "      <td>0.020408</td>\n",
       "    </tr>\n",
       "    <tr>\n",
       "      <th>general-younger</th>\n",
       "      <td>0.000000</td>\n",
       "      <td>0.000000</td>\n",
       "      <td>0.040816</td>\n",
       "    </tr>\n",
       "    <tr>\n",
       "      <th>spendthrift-young</th>\n",
       "      <td>0.000000</td>\n",
       "      <td>0.000000</td>\n",
       "      <td>0.612245</td>\n",
       "    </tr>\n",
       "    <tr>\n",
       "      <th>target</th>\n",
       "      <td>0.173077</td>\n",
       "      <td>0.442623</td>\n",
       "      <td>0.581633</td>\n",
       "    </tr>\n",
       "  </tbody>\n",
       "</table>\n",
       "</div>"
      ],
      "text/plain": [
       "                         age  annual_income  spending_score\n",
       "cluster                                                    \n",
       "frugal-high-income  0.269231       0.459016        0.000000\n",
       "general-older       0.461538       0.032787        0.020408\n",
       "general-younger     0.000000       0.000000        0.040816\n",
       "spendthrift-young   0.000000       0.000000        0.612245\n",
       "target              0.173077       0.442623        0.581633"
      ]
     },
     "execution_count": 16,
     "metadata": {},
     "output_type": "execute_result"
    }
   ],
   "source": [
    "train_scaled.groupby(\"cluster\").min()"
   ]
  },
  {
   "cell_type": "code",
   "execution_count": 17,
   "id": "f4d7b27b",
   "metadata": {},
   "outputs": [
    {
     "data": {
      "text/html": [
       "<div>\n",
       "<style scoped>\n",
       "    .dataframe tbody tr th:only-of-type {\n",
       "        vertical-align: middle;\n",
       "    }\n",
       "\n",
       "    .dataframe tbody tr th {\n",
       "        vertical-align: top;\n",
       "    }\n",
       "\n",
       "    .dataframe thead th {\n",
       "        text-align: right;\n",
       "    }\n",
       "</style>\n",
       "<table border=\"1\" class=\"dataframe\">\n",
       "  <thead>\n",
       "    <tr style=\"text-align: right;\">\n",
       "      <th></th>\n",
       "      <th>age</th>\n",
       "      <th>annual_income</th>\n",
       "      <th>spending_score</th>\n",
       "    </tr>\n",
       "    <tr>\n",
       "      <th>cluster</th>\n",
       "      <th></th>\n",
       "      <th></th>\n",
       "      <th></th>\n",
       "    </tr>\n",
       "  </thead>\n",
       "  <tbody>\n",
       "    <tr>\n",
       "      <th>frugal-high-income</th>\n",
       "      <td>0.788462</td>\n",
       "      <td>1.000000</td>\n",
       "      <td>0.387755</td>\n",
       "    </tr>\n",
       "    <tr>\n",
       "      <th>general-older</th>\n",
       "      <td>1.000000</td>\n",
       "      <td>0.524590</td>\n",
       "      <td>0.602041</td>\n",
       "    </tr>\n",
       "    <tr>\n",
       "      <th>general-younger</th>\n",
       "      <td>0.423077</td>\n",
       "      <td>0.540984</td>\n",
       "      <td>0.602041</td>\n",
       "    </tr>\n",
       "    <tr>\n",
       "      <th>spendthrift-young</th>\n",
       "      <td>0.326923</td>\n",
       "      <td>0.196721</td>\n",
       "      <td>1.000000</td>\n",
       "    </tr>\n",
       "    <tr>\n",
       "      <th>target</th>\n",
       "      <td>0.423077</td>\n",
       "      <td>1.000000</td>\n",
       "      <td>0.979592</td>\n",
       "    </tr>\n",
       "  </tbody>\n",
       "</table>\n",
       "</div>"
      ],
      "text/plain": [
       "                         age  annual_income  spending_score\n",
       "cluster                                                    \n",
       "frugal-high-income  0.788462       1.000000        0.387755\n",
       "general-older       1.000000       0.524590        0.602041\n",
       "general-younger     0.423077       0.540984        0.602041\n",
       "spendthrift-young   0.326923       0.196721        1.000000\n",
       "target              0.423077       1.000000        0.979592"
      ]
     },
     "execution_count": 17,
     "metadata": {},
     "output_type": "execute_result"
    }
   ],
   "source": [
    "train_scaled.groupby(\"cluster\").max()"
   ]
  },
  {
   "cell_type": "markdown",
   "id": "fcc0abad",
   "metadata": {},
   "source": [
    "## Option 1: Use the clusters to simplify multiple other variables (dimensionality reduction)\n",
    "- Since the cluster names make sense, we can use them instead of age, spending, and income.\n",
    "- This might be useful to reduce features (called dimensionality reduction)\n",
    "- Dimensionality reduction might likely help other model performance (regressions, classifications)\n",
    "- Simplifying our analysis to a handful of English terms can help with our storytelling.\n",
    "- Business and stakeholders, generally, _crave_ simple answers. Clustering can help you with that."
   ]
  },
  {
   "cell_type": "code",
   "execution_count": 18,
   "id": "9df5c116",
   "metadata": {},
   "outputs": [
    {
     "data": {
      "text/html": [
       "<div>\n",
       "<style scoped>\n",
       "    .dataframe tbody tr th:only-of-type {\n",
       "        vertical-align: middle;\n",
       "    }\n",
       "\n",
       "    .dataframe tbody tr th {\n",
       "        vertical-align: top;\n",
       "    }\n",
       "\n",
       "    .dataframe thead th {\n",
       "        text-align: right;\n",
       "    }\n",
       "</style>\n",
       "<table border=\"1\" class=\"dataframe\">\n",
       "  <thead>\n",
       "    <tr style=\"text-align: right;\">\n",
       "      <th></th>\n",
       "      <th>cluster</th>\n",
       "    </tr>\n",
       "    <tr>\n",
       "      <th>customer_id</th>\n",
       "      <th></th>\n",
       "    </tr>\n",
       "  </thead>\n",
       "  <tbody>\n",
       "    <tr>\n",
       "      <th>1</th>\n",
       "      <td>general-younger</td>\n",
       "    </tr>\n",
       "    <tr>\n",
       "      <th>2</th>\n",
       "      <td>spendthrift-young</td>\n",
       "    </tr>\n",
       "    <tr>\n",
       "      <th>3</th>\n",
       "      <td>general-younger</td>\n",
       "    </tr>\n",
       "    <tr>\n",
       "      <th>4</th>\n",
       "      <td>spendthrift-young</td>\n",
       "    </tr>\n",
       "    <tr>\n",
       "      <th>5</th>\n",
       "      <td>general-younger</td>\n",
       "    </tr>\n",
       "  </tbody>\n",
       "</table>\n",
       "</div>"
      ],
      "text/plain": [
       "                       cluster\n",
       "customer_id                   \n",
       "1              general-younger\n",
       "2            spendthrift-young\n",
       "3              general-younger\n",
       "4            spendthrift-young\n",
       "5              general-younger"
      ]
     },
     "execution_count": 18,
     "metadata": {},
     "output_type": "execute_result"
    }
   ],
   "source": [
    "train_scaled.drop(columns=[\"age\", \"annual_income\", \"spending_score\"]).head()"
   ]
  },
  {
   "cell_type": "markdown",
   "id": "02b0df99",
   "metadata": {},
   "source": [
    "## Option 2:  Use cluster names as a target variable to classify new data\n",
    "- If our English label is super useful, we may want to use it as the target variable in classification\n",
    "- We can take in new data and classify it!"
   ]
  },
  {
   "cell_type": "markdown",
   "id": "6ae55bf8",
   "metadata": {},
   "source": [
    "## Option 3: Perform much deeper EDA and/or modeling for each cluster, individually\n",
    "\n",
    "- Cluster 0 may have an upward linear trend between income and spending, that would be its own model\n",
    "- Cluster 1 may have an up then down polynomial trend between income and spending, that would be its own model\n",
    "- Cluster 2 may be more random, for example\n",
    "\n",
    "Consider how each cluster can be its own population _of_ that cluster's members. \n",
    "\n",
    "Then use the tools we already use (visualization, hypothesis testing, modeling) to investigate similarities/differences.\n",
    "\n",
    "- We can dive into each individual cluster individually w/ exploration\n",
    "    - stats + hypothesis testing\n",
    "    - visualizations for each cluster, comparing/contrasting\n",
    "- We can model each cluster individually to make predictions for new customers who belong that cluster\n",
    "- If we have enough customers + data (HEB//USAA/etc...) we could do even more clustering on each cluster for cluster-ception!"
   ]
  },
  {
   "cell_type": "code",
   "execution_count": null,
   "id": "67c4cfdd",
   "metadata": {},
   "outputs": [],
   "source": []
  }
 ],
 "metadata": {
  "kernelspec": {
   "display_name": "Python 3",
   "language": "python",
   "name": "python3"
  },
  "language_info": {
   "codemirror_mode": {
    "name": "ipython",
    "version": 3
   },
   "file_extension": ".py",
   "mimetype": "text/x-python",
   "name": "python",
   "nbconvert_exporter": "python",
   "pygments_lexer": "ipython3",
   "version": "3.8.12"
  }
 },
 "nbformat": 4,
 "nbformat_minor": 5
}
