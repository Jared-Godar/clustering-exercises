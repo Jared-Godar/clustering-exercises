{
 "cells": [
  {
   "cell_type": "markdown",
   "id": "42d46153",
   "metadata": {},
   "source": [
    "<h1 id=\"exercises\">Exercises</h1>\n",
    "<p>Within your <code>codeup-data-science</code> directory, create a new directory named <code>clustering-exercises</code>. This will be where you do your work for this module. Create a repository on GitHub with the same name, and link your local repository to GitHub.</p>\n",
    "<p>Save your clustering work in your <code>clustering-exercises</code> repo. Then add, commit, and push your changes.</p>\n",
    "<p>For example, if the\n",
    "exercise directs you to create a file named <code>myfile.py</code>, you should have\n",
    "<code>clustering/myfile.py</code> in your repository.</p>\n",
    "<p>If a file extension is specified, you should create that specific file. If there\n",
    "is not file extension specified, you may either create a python script or a\n",
    "jupyter notebook for the exercise.</p>\n",
    "<div class=\"admonition tip\">\n",
    "<p class=\"admonition-title\">Workflow</p>\n",
    "<p>Throughout the exercises, you may wish to do your work in a notebook, then\n",
    "transfer any functions you've created to an external python script.</p>\n",
    "<p>Keep in mind this is not always a linear process! You will probably be\n",
    "cycling between a notebook and an external python script frequently.</p>\n",
    "<p>Remember to run your code often to check for correct output and/or errors.</p>\n",
    "</div>\n"
   ]
  },
  {
   "cell_type": "markdown",
   "id": "b2f6360f",
   "metadata": {},
   "source": [
    "---"
   ]
  },
  {
   "cell_type": "markdown",
   "id": "5d782c10",
   "metadata": {},
   "source": [
    "\n",
    "<h2 id=\"acquire-acquirepy\">Acquire (acquire.py)</h2>\n",
    "<h3 id=\"zillow\">Zillow</h3>\n",
    "<p>For the following, iterate through the steps you would take to create functions:\n",
    "Write the code to do the following in a jupyter notebook, test it, convert to functions, then create the file to house those functions. </p>\n",
    "<p>You will have a zillow.ipynb file and a helper file for each section in the pipeline. </p>\n",
    "<h4 id=\"acquire-summarize_1\">acquire &amp; summarize</h4>\n"
   ]
  },
  {
   "cell_type": "markdown",
   "id": "fd0578a5",
   "metadata": {},
   "source": [
    "\n",
    "<ol>\n",
    "<li>\n",
    "<p>Acquire data from mySQL using the python module to connect and query. You will want to end with a single dataframe. Make sure to include: the logerror, all fields related to the properties that are available. You will end up using all the tables in the database. </p>\n",
    "<ul>\n",
    "<li><strong><em>Be sure to do the correct join (inner, outer, etc.). We do not want to eliminate properties purely because they may have a null value for <code>airconditioningtypeid</code>.</em></strong>  </li>\n",
    "<li>Only include properties with a transaction in 2017, and include only the last transaction for each property (so no duplicate property ID's), along with zestimate error and date of transaction.  </li>\n",
    "<li>Only include properties that include a latitude and longitude value.  </li>\n",
    "</ul>\n",
    "</li>\n"
   ]
  },
  {
   "cell_type": "code",
   "execution_count": null,
   "id": "88476843",
   "metadata": {},
   "outputs": [],
   "source": []
  },
  {
   "cell_type": "code",
   "execution_count": null,
   "id": "caa1765e",
   "metadata": {},
   "outputs": [],
   "source": []
  },
  {
   "cell_type": "code",
   "execution_count": null,
   "id": "b9da4f8f",
   "metadata": {},
   "outputs": [],
   "source": []
  },
  {
   "cell_type": "markdown",
   "id": "59b4013f",
   "metadata": {},
   "source": [
    "2. Summarize your data (summary stats, info, dtypes, shape, distributions, value_counts, etc.)</p>\n",
    "\n"
   ]
  },
  {
   "cell_type": "code",
   "execution_count": null,
   "id": "4fb0df04",
   "metadata": {},
   "outputs": [],
   "source": []
  },
  {
   "cell_type": "code",
   "execution_count": null,
   "id": "d93efa6f",
   "metadata": {},
   "outputs": [],
   "source": []
  },
  {
   "cell_type": "code",
   "execution_count": null,
   "id": "ef58df6e",
   "metadata": {},
   "outputs": [],
   "source": []
  },
  {
   "cell_type": "markdown",
   "id": "48738142",
   "metadata": {},
   "source": [
    "3. Write a function that takes in a dataframe of observations and attributes and returns a dataframe where each row is an atttribute name, the first column is the number of rows with missing values for that attribute, and the second column is percent of total rows that have missing values for that attribute. Run the function and document takeaways from this on how you want to handle missing values. \n",
    "\n"
   ]
  },
  {
   "cell_type": "markdown",
   "id": "557ad8b2",
   "metadata": {},
   "source": [
    "\n",
    "<table>\n",
    "<thead>\n",
    "<tr>\n",
    "<th></th>\n",
    "<th align=\"right\">num_rows_missing</th>\n",
    "<th align=\"right\">pct_rows_missing</th>\n",
    "</tr>\n",
    "</thead>\n",
    "<tbody>\n",
    "<tr>\n",
    "<td>parcelid</td>\n",
    "<td align=\"right\">0</td>\n",
    "<td align=\"right\">0.000000</td>\n",
    "</tr>\n",
    "<tr>\n",
    "<td>airconditioningtypeid</td>\n",
    "<td align=\"right\">29041</td>\n",
    "<td align=\"right\">0.535486</td>\n",
    "</tr>\n",
    "<tr>\n",
    "<td>architecturalstyletypeid</td>\n",
    "<td align=\"right\">54232</td>\n",
    "<td align=\"right\">0.999982</td>\n",
    "</tr>\n",
    "</tbody>\n",
    "</table>\n",
    "\n"
   ]
  },
  {
   "cell_type": "markdown",
   "id": "387aea48",
   "metadata": {},
   "source": [
    "4. Write a function that takes in a dataframe and returns a dataframe with 3 columns: the number of columns missing, percent of columns missing, and number of rows with n columns missing. Run the function and document takeaways from this on how you want to handle missing values. \n",
    "\n"
   ]
  },
  {
   "cell_type": "markdown",
   "id": "278cc383",
   "metadata": {},
   "source": [
    "\n",
    "<table>\n",
    "<thead>\n",
    "<tr>\n",
    "<th>num_cols_missing</th>\n",
    "<th align=\"right\">pct_cols_missing</th>\n",
    "<th align=\"right\">num_rows</th>\n",
    "</tr>\n",
    "</thead>\n",
    "<tbody>\n",
    "<tr>\n",
    "<td>23</td>\n",
    "<td align=\"right\">38.333</td>\n",
    "<td align=\"right\">108</td>\n",
    "</tr>\n",
    "<tr>\n",
    "<td>24</td>\n",
    "<td align=\"right\">40.000</td>\n",
    "<td align=\"right\">123</td>\n",
    "</tr>\n",
    "<tr>\n",
    "<td>25</td>\n",
    "<td align=\"right\">41.667</td>\n",
    "<td align=\"right\">5280</td>\n",
    "</tr>\n",
    "</tbody>\n",
    "</table>\n"
   ]
  },
  {
   "cell_type": "code",
   "execution_count": null,
   "id": "3d762a6d",
   "metadata": {},
   "outputs": [],
   "source": []
  },
  {
   "cell_type": "code",
   "execution_count": null,
   "id": "ffda929b",
   "metadata": {},
   "outputs": [],
   "source": []
  },
  {
   "cell_type": "code",
   "execution_count": null,
   "id": "696577ca",
   "metadata": {},
   "outputs": [],
   "source": []
  },
  {
   "cell_type": "markdown",
   "id": "77925756",
   "metadata": {},
   "source": [
    "\n",
    "<h4 id=\"prepare\">Prepare</h4>\n",
    "<ol>\n",
    "<li>\n",
    "<p>Remove any properties that are likely to be something other than single unit properties. (e.g. no duplexes, no land/lot, ...). There are multiple ways to estimate that a property is a single unit, and there is not a single \"right\" answer. But for this exercise, do not purely filter by unitcnt as we did previously. Add some new logic that will reduce the number of properties that are falsely removed. You might want to use # bedrooms, square feet, unit type or the like to then identify those with unitcnt not defined.  </p>\n",
    "\n",
    "\n"
   ]
  },
  {
   "cell_type": "markdown",
   "id": "daaaedca",
   "metadata": {},
   "source": [
    "2. <p>Create a function that will drop rows or columns based on the percent of values that are missing: handle_missing_values(df, prop_required_column, prop_required_row).  </p>\n",
    "<ul>\n",
    "<li>The input:<ul>\n",
    "<li>A dataframe</li>\n",
    "<li>A number between 0 and 1 that represents the proportion, for each column, of rows with non-missing values required to keep the column.  i.e. if prop_required_column = .6, then you are requiring a column to have at least 60% of values not-NA (no more than 40% missing).</li>\n",
    "<li>A number between 0 and 1 that represents the proportion, for each row, of columns/variables with non-missing values required to keep the row. For example, if prop_required_row = .75, then you are requiring a row to have at least 75% of variables with a non-missing value (no more that 25% missing). </li>\n",
    "</ul>\n",
    "</li>\n",
    "<li>The output:<ul>\n",
    "<li>The dataframe with the columns and rows dropped as indicated. <em>Be sure to drop the columns prior to the rows in your function.</em></li>\n",
    "</ul>\n",
    "</li>\n",
    "<li>hint:<ul>\n",
    "<li>Look up the dropna documentation. </li>\n",
    "<li>You will want to compute a threshold from your input values (prop_required) and total number of rows or columns.</li>\n",
    "<li>Make use of inplace, i.e. inplace=True/False.</li>\n",
    "</ul>\n"
   ]
  },
  {
   "cell_type": "code",
   "execution_count": null,
   "id": "afb39c4c",
   "metadata": {},
   "outputs": [],
   "source": []
  },
  {
   "cell_type": "code",
   "execution_count": null,
   "id": "0f961f1d",
   "metadata": {},
   "outputs": [],
   "source": []
  },
  {
   "cell_type": "code",
   "execution_count": null,
   "id": "0dc65c1a",
   "metadata": {},
   "outputs": [],
   "source": []
  },
  {
   "cell_type": "markdown",
   "id": "9b634b6e",
   "metadata": {},
   "source": [
    "3. Decide how to handle the remaining missing values: </p>\n",
    "<ul>\n",
    "<li>Fill with constant value.</li>\n",
    "<li>Impute with mean, median, mode.</li>\n",
    "<li>Drop row/column</li>\n",
    "</ul>\n",
    "</li>\n",
    "</ol>\n",
    "\n"
   ]
  },
  {
   "cell_type": "code",
   "execution_count": null,
   "id": "c6ecaebb",
   "metadata": {},
   "outputs": [],
   "source": []
  },
  {
   "cell_type": "code",
   "execution_count": null,
   "id": "2abeab2e",
   "metadata": {},
   "outputs": [],
   "source": []
  },
  {
   "cell_type": "code",
   "execution_count": null,
   "id": "67dced95",
   "metadata": {},
   "outputs": [],
   "source": []
  },
  {
   "cell_type": "markdown",
   "id": "d0e2e540",
   "metadata": {},
   "source": [
    "---"
   ]
  },
  {
   "cell_type": "markdown",
   "id": "990ef08b",
   "metadata": {},
   "source": [
    "\n",
    "<h4 id=\"wrangle_zillowpy\">wrangle_zillow.py</h4>\n",
    "<p>Functions of the work above needed to acquire and prepare a new sample of data. </p>\n"
   ]
  },
  {
   "cell_type": "code",
   "execution_count": null,
   "id": "46a36b88",
   "metadata": {},
   "outputs": [],
   "source": []
  },
  {
   "cell_type": "code",
   "execution_count": null,
   "id": "49cf8af8",
   "metadata": {},
   "outputs": [],
   "source": []
  },
  {
   "cell_type": "code",
   "execution_count": null,
   "id": "04e6dc8e",
   "metadata": {},
   "outputs": [],
   "source": []
  },
  {
   "cell_type": "markdown",
   "id": "41a61e17",
   "metadata": {},
   "source": [
    "---"
   ]
  },
  {
   "cell_type": "markdown",
   "id": "ea4a80d8",
   "metadata": {},
   "source": [
    "\n",
    "<h3 id=\"mall-customers\">Mall Customers</h3>\n",
    "<h4 id=\"notebook\">notebook</h4>\n",
    "<ol>\n",
    "<li>Acquire data from mall_customers.customers in mysql database. </li>\n",
    "\n"
   ]
  },
  {
   "cell_type": "code",
   "execution_count": null,
   "id": "63074e11",
   "metadata": {},
   "outputs": [],
   "source": []
  },
  {
   "cell_type": "markdown",
   "id": "82303fe1",
   "metadata": {},
   "source": [
    "\n",
    "2. Summarize data (include distributions and descriptive statistics).</li>\n",
    "\n"
   ]
  },
  {
   "cell_type": "code",
   "execution_count": null,
   "id": "ae81ad3c",
   "metadata": {},
   "outputs": [],
   "source": []
  },
  {
   "cell_type": "code",
   "execution_count": null,
   "id": "1acf4d4a",
   "metadata": {},
   "outputs": [],
   "source": []
  },
  {
   "cell_type": "markdown",
   "id": "40957053",
   "metadata": {},
   "source": [
    "3. Detect outliers using IQR.</li>\n",
    "\n"
   ]
  },
  {
   "cell_type": "code",
   "execution_count": null,
   "id": "70ab28db",
   "metadata": {},
   "outputs": [],
   "source": []
  },
  {
   "cell_type": "code",
   "execution_count": null,
   "id": "fc7f4fe4",
   "metadata": {},
   "outputs": [],
   "source": []
  },
  {
   "cell_type": "markdown",
   "id": "3a8b39f8",
   "metadata": {},
   "source": [
    "4. Split data (train, validate, and test split).</li>\n",
    "\n"
   ]
  },
  {
   "cell_type": "code",
   "execution_count": null,
   "id": "ed4d77b9",
   "metadata": {},
   "outputs": [],
   "source": []
  },
  {
   "cell_type": "code",
   "execution_count": null,
   "id": "f3e33fd7",
   "metadata": {},
   "outputs": [],
   "source": []
  },
  {
   "cell_type": "markdown",
   "id": "cb020313",
   "metadata": {},
   "source": [
    "5. Encode categorical columns using a one hot encoder (pd.get_dummies).</li>\n",
    "\n"
   ]
  },
  {
   "cell_type": "code",
   "execution_count": null,
   "id": "28547bf6",
   "metadata": {},
   "outputs": [],
   "source": []
  },
  {
   "cell_type": "code",
   "execution_count": null,
   "id": "3236681d",
   "metadata": {},
   "outputs": [],
   "source": []
  },
  {
   "cell_type": "code",
   "execution_count": null,
   "id": "54d6dbba",
   "metadata": {},
   "outputs": [],
   "source": []
  },
  {
   "cell_type": "markdown",
   "id": "c0ddee37",
   "metadata": {},
   "source": [
    "6. Handles missing values.</li>\n",
    "\n"
   ]
  },
  {
   "cell_type": "code",
   "execution_count": null,
   "id": "a8d8b9f7",
   "metadata": {},
   "outputs": [],
   "source": []
  },
  {
   "cell_type": "code",
   "execution_count": null,
   "id": "ea6adf62",
   "metadata": {},
   "outputs": [],
   "source": []
  },
  {
   "cell_type": "code",
   "execution_count": null,
   "id": "9af39f70",
   "metadata": {},
   "outputs": [],
   "source": []
  },
  {
   "cell_type": "markdown",
   "id": "adf66802",
   "metadata": {},
   "source": [
    "7. Scaling</li>\n",
    "\n"
   ]
  },
  {
   "cell_type": "code",
   "execution_count": null,
   "id": "1e288a5a",
   "metadata": {},
   "outputs": [],
   "source": []
  },
  {
   "cell_type": "code",
   "execution_count": null,
   "id": "570cd8c7",
   "metadata": {},
   "outputs": [],
   "source": []
  },
  {
   "cell_type": "markdown",
   "id": "46d0fc23",
   "metadata": {},
   "source": [
    "---"
   ]
  },
  {
   "cell_type": "markdown",
   "id": "83f5c6ce",
   "metadata": {},
   "source": [
    "\n",
    "</ol>\n",
    "<h4 id=\"wrangle_mallpy\">wrangle_mall.py</h4>\n"
   ]
  },
  {
   "cell_type": "markdown",
   "id": "f71f3a7e",
   "metadata": {},
   "source": [
    "\n",
    "<ol>\n",
    "<li>Acquire data from mall_customers.customers in mysql database. </li>\n",
    "\n"
   ]
  },
  {
   "cell_type": "code",
   "execution_count": null,
   "id": "65d309a4",
   "metadata": {},
   "outputs": [],
   "source": []
  },
  {
   "cell_type": "code",
   "execution_count": null,
   "id": "5c944832",
   "metadata": {},
   "outputs": [],
   "source": []
  },
  {
   "cell_type": "markdown",
   "id": "c448d315",
   "metadata": {},
   "source": [
    "2. Split the data into train, validate, and split</li>\n"
   ]
  },
  {
   "cell_type": "code",
   "execution_count": null,
   "id": "5054263c",
   "metadata": {},
   "outputs": [],
   "source": []
  },
  {
   "cell_type": "code",
   "execution_count": null,
   "id": "3e4c9bac",
   "metadata": {},
   "outputs": [],
   "source": []
  },
  {
   "cell_type": "code",
   "execution_count": null,
   "id": "a0b95a86",
   "metadata": {},
   "outputs": [],
   "source": []
  },
  {
   "cell_type": "markdown",
   "id": "88a35a84",
   "metadata": {},
   "source": [
    "3. One-hot-encoding (pd.get_dummies)</li>\n",
    "\n"
   ]
  },
  {
   "cell_type": "code",
   "execution_count": null,
   "id": "5734c69c",
   "metadata": {},
   "outputs": [],
   "source": []
  },
  {
   "cell_type": "code",
   "execution_count": null,
   "id": "ad7cbe1a",
   "metadata": {},
   "outputs": [],
   "source": []
  },
  {
   "cell_type": "markdown",
   "id": "4aa792d5",
   "metadata": {},
   "source": [
    "4. Missing values</li>\n",
    "\n"
   ]
  },
  {
   "cell_type": "code",
   "execution_count": null,
   "id": "ea20af89",
   "metadata": {},
   "outputs": [],
   "source": []
  },
  {
   "cell_type": "code",
   "execution_count": null,
   "id": "c3e9824a",
   "metadata": {},
   "outputs": [],
   "source": []
  },
  {
   "cell_type": "markdown",
   "id": "3c75a897",
   "metadata": {},
   "source": [
    "5. Scaling</li>\n",
    "</ol>"
   ]
  },
  {
   "cell_type": "code",
   "execution_count": null,
   "id": "801873a7",
   "metadata": {},
   "outputs": [],
   "source": []
  },
  {
   "cell_type": "code",
   "execution_count": null,
   "id": "6cb1c54d",
   "metadata": {},
   "outputs": [],
   "source": []
  },
  {
   "cell_type": "code",
   "execution_count": null,
   "id": "1f97b1fe",
   "metadata": {},
   "outputs": [],
   "source": []
  }
 ],
 "metadata": {
  "kernelspec": {
   "display_name": "Python 3",
   "language": "python",
   "name": "python3"
  },
  "language_info": {
   "codemirror_mode": {
    "name": "ipython",
    "version": 3
   },
   "file_extension": ".py",
   "mimetype": "text/x-python",
   "name": "python",
   "nbconvert_exporter": "python",
   "pygments_lexer": "ipython3",
   "version": "3.8.8"
  }
 },
 "nbformat": 4,
 "nbformat_minor": 5
}
