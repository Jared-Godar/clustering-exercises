{
 "cells": [
  {
   "cell_type": "markdown",
   "id": "42d46153",
   "metadata": {},
   "source": [
    "<h1 id=\"exercises\">Exercises</h1>\n",
    "<p>Within your <code>codeup-data-science</code> directory, create a new directory named <code>clustering-exercises</code>. This will be where you do your work for this module. Create a repository on GitHub with the same name, and link your local repository to GitHub.</p>\n",
    "<p>Save your clustering work in your <code>clustering-exercises</code> repo. Then add, commit, and push your changes.</p>\n",
    "<p>For example, if the\n",
    "exercise directs you to create a file named <code>myfile.py</code>, you should have\n",
    "<code>clustering/myfile.py</code> in your repository.</p>\n",
    "<p>If a file extension is specified, you should create that specific file. If there\n",
    "is not file extension specified, you may either create a python script or a\n",
    "jupyter notebook for the exercise.</p>\n",
    "<div class=\"admonition tip\">\n",
    "<p class=\"admonition-title\">Workflow</p>\n",
    "<p>Throughout the exercises, you may wish to do your work in a notebook, then\n",
    "transfer any functions you've created to an external python script.</p>\n",
    "<p>Keep in mind this is not always a linear process! You will probably be\n",
    "cycling between a notebook and an external python script frequently.</p>\n",
    "<p>Remember to run your code often to check for correct output and/or errors.</p>\n",
    "</div>\n"
   ]
  },
  {
   "cell_type": "markdown",
   "id": "b2f6360f",
   "metadata": {},
   "source": [
    "---"
   ]
  },
  {
   "cell_type": "markdown",
   "id": "5d782c10",
   "metadata": {},
   "source": [
    "\n",
    "<h2 id=\"acquire-acquirepy\">Acquire (acquire.py)</h2>\n",
    "<h3 id=\"zillow\">Zillow</h3>\n",
    "<p>For the following, iterate through the steps you would take to create functions:\n",
    "Write the code to do the following in a jupyter notebook, test it, convert to functions, then create the file to house those functions. </p>\n",
    "<p>You will have a zillow.ipynb file and a helper file for each section in the pipeline. </p>\n",
    "<h4 id=\"acquire-summarize_1\">acquire &amp; summarize</h4>\n"
   ]
  },
  {
   "cell_type": "markdown",
   "id": "fd0578a5",
   "metadata": {},
   "source": [
    "\n",
    "<ol>\n",
    "<li>\n",
    "<p>Acquire data from mySQL using the python module to connect and query. You will want to end with a single dataframe. Make sure to include: the logerror, all fields related to the properties that are available. You will end up using all the tables in the database. </p>\n",
    "<ul>\n",
    "<li><strong><em>Be sure to do the correct join (inner, outer, etc.). We do not want to eliminate properties purely because they may have a null value for <code>airconditioningtypeid</code>.</em></strong>  </li>\n",
    "<li>Only include properties with a transaction in 2017, and include only the last transaction for each property (so no duplicate property ID's), along with zestimate error and date of transaction.  </li>\n",
    "<li>Only include properties that include a latitude and longitude value.  </li>\n",
    "</ul>\n",
    "</li>\n"
   ]
  },
  {
   "cell_type": "code",
   "execution_count": 1,
   "id": "f814eae0",
   "metadata": {},
   "outputs": [],
   "source": [
    "import pandas as pd\n",
    "import numpy as np\n",
    "import matplotlib.pyplot as plt\n",
    "import seaborn as sns\n",
    "\n",
    "import warnings\n",
    "warnings.filterwarnings('ignore')\n",
    "import env\n",
    "\n",
    "#import wrangle_zillow"
   ]
  },
  {
   "cell_type": "code",
   "execution_count": 2,
   "id": "fac03d5b",
   "metadata": {},
   "outputs": [],
   "source": [
    "import warnings\n",
    "warnings.filterwarnings(\"ignore\")\n",
    "\n",
    "# Wrangling\n",
    "import pandas as pd\n",
    "import numpy as np\n",
    "from sklearn.model_selection import train_test_split\n",
    "\n",
    "\n",
    "# Visualizing\n",
    "%matplotlib inline\n",
    "import matplotlib.pyplot as plt\n",
    "import seaborn as sns\n",
    "\n",
    "# default pandas decimal number display format\n",
    "pd.options.display.float_format = '{:.2f}'.format"
   ]
  },
  {
   "cell_type": "code",
   "execution_count": 3,
   "id": "fcde912f",
   "metadata": {},
   "outputs": [],
   "source": [
    "def get_connection(database):\n",
    "    '''\n",
    "    Database: string; name of database that the url is being created for\n",
    "    '''\n",
    "    return f'mysql+pymysql://{env.user}:{env.password}@{env.host}/{database}'"
   ]
  },
  {
   "cell_type": "code",
   "execution_count": 4,
   "id": "9091eca3",
   "metadata": {},
   "outputs": [],
   "source": [
    "sql_query = '''\n",
    "SELECT prop.*, logerror, transactiondate, airconditioningdesc, architecturalstyledesc, buildingclassdesc, heatingorsystemdesc, propertylandusedesc, storydesc, typeconstructiondesc\n",
    "FROM properties_2017 as prop \n",
    "INNER JOIN (\n",
    "\tSELECT id, p.parcelid, logerror, transactiondate\n",
    "\tFROM predictions_2017 AS p\n",
    "\tINNER JOIN (\n",
    "\t\tSELECT parcelid,  MAX(transactiondate) AS max_date\n",
    "\t\tFROM predictions_2017 \n",
    "\t\tGROUP BY (parcelid)) AS sub\n",
    "\t\t\tON p.parcelid = sub.parcelid\n",
    "\t\tWHERE p.transactiondate = sub.max_date\n",
    "\t\t) AS subq\n",
    "\tON prop.parcelid = subq.parcelid\n",
    "LEFT JOIN airconditioningtype\n",
    "\tON prop.airconditioningtypeid = airconditioningtype.airconditioningtypeid\n",
    "LEFT JOIN architecturalstyletype\n",
    "\tON prop.architecturalstyletypeid = architecturalstyletype.architecturalstyletypeid\n",
    "LEFT JOIN buildingclasstype \n",
    "\tON prop.buildingclasstypeid = buildingclasstype.buildingclasstypeid\n",
    "LEFT JOIN heatingorsystemtype\n",
    "\tON prop.heatingorsystemtypeid = heatingorsystemtype.heatingorsystemtypeid\n",
    "LEFT JOIN propertylandusetype\n",
    "\tON prop.propertylandusetypeid = propertylandusetype.propertylandusetypeid\n",
    "LEFT JOIN storytype\n",
    "\tON prop.storytypeid = storytype.storytypeid\n",
    "LEFT JOIN typeconstructiontype\n",
    "\tON prop.typeconstructiontypeid = typeconstructiontype.typeconstructiontypeid\n",
    "WHERE latitude IS NOT NULL \n",
    "\tAND longitude IS NOT NULL\n",
    "\tAND transactiondate BETWEEN '2017-01-01' AND '2017-12-31';\n",
    "'''"
   ]
  },
  {
   "cell_type": "code",
   "execution_count": 5,
   "id": "d0ec83f9",
   "metadata": {},
   "outputs": [],
   "source": [
    "sqlquery2='''\n",
    "SELECT prop.*, \n",
    "       pred.logerror, \n",
    "       pred.transactiondate, \n",
    "       air.airconditioningdesc, \n",
    "       arch.architecturalstyledesc, \n",
    "       build.buildingclassdesc, \n",
    "       heat.heatingorsystemdesc, \n",
    "       landuse.propertylandusedesc, \n",
    "       story.storydesc, \n",
    "       construct.typeconstructiondesc \n",
    "\n",
    "FROM   properties_2017 prop  \n",
    "       INNER JOIN (SELECT parcelid,\n",
    "                          logerror,\n",
    "                          Max(transactiondate) transactiondate \n",
    "                   FROM   predictions_2017 \n",
    "                   GROUP  BY parcelid, logerror) pred\n",
    "               USING (parcelid) \n",
    "       LEFT JOIN airconditioningtype air USING (airconditioningtypeid) \n",
    "       LEFT JOIN architecturalstyletype arch USING (architecturalstyletypeid) \n",
    "       LEFT JOIN buildingclasstype build USING (buildingclasstypeid) \n",
    "       LEFT JOIN heatingorsystemtype heat USING (heatingorsystemtypeid) \n",
    "       LEFT JOIN propertylandusetype landuse USING (propertylandusetypeid) \n",
    "       LEFT JOIN storytype story USING (storytypeid) \n",
    "       LEFT JOIN typeconstructiontype construct USING (typeconstructiontypeid) \n",
    "WHERE  prop.latitude IS NOT NULL \n",
    "       AND prop.longitude IS NOT NULL\n",
    "'''"
   ]
  },
  {
   "cell_type": "code",
   "execution_count": 6,
   "id": "caa1765e",
   "metadata": {},
   "outputs": [],
   "source": [
    "def acquire_cache_zillow():\n",
    "    url = get_connection('zillow')\n",
    "    zillow = pd.read_sql(sql_query, url)\n",
    "    zillow.to_csv('zillow.csv')\n",
    "    zillow = pd.read_csv('zillow.csv')\n",
    "    zillow.drop(columns=['Unnamed: 0'], inplace=True)\n",
    "    return zillow"
   ]
  },
  {
   "cell_type": "code",
   "execution_count": 7,
   "id": "1b894078",
   "metadata": {},
   "outputs": [],
   "source": [
    "def acquire_cache_zillow2():\n",
    "    url = get_connection('zillow')\n",
    "    zillow2 = pd.read_sql(sqlquery2, url)\n",
    "    zillow2.to_csv('zillow2.csv')\n",
    "    zillow2 = pd.read_csv('zillow2.csv')\n",
    "    zillow2.drop(columns=['Unnamed: 0'], inplace=True)\n",
    "    return zillow2"
   ]
  },
  {
   "cell_type": "code",
   "execution_count": 8,
   "id": "ed46a7d1",
   "metadata": {},
   "outputs": [],
   "source": [
    "zillow = acquire_cache_zillow()"
   ]
  },
  {
   "cell_type": "code",
   "execution_count": 9,
   "id": "f7f3767b",
   "metadata": {},
   "outputs": [],
   "source": [
    "zillow2 = acquire_cache_zillow2()"
   ]
  },
  {
   "cell_type": "code",
   "execution_count": 10,
   "id": "c732401b",
   "metadata": {},
   "outputs": [
    {
     "name": "stdout",
     "output_type": "stream",
     "text": [
      "(77380, 68)\n",
      "(77575, 68)\n"
     ]
    }
   ],
   "source": [
    "print(zillow.shape)\n",
    "print(zillow2.shape)"
   ]
  },
  {
   "cell_type": "code",
   "execution_count": 11,
   "id": "9478c428",
   "metadata": {},
   "outputs": [
    {
     "data": {
      "text/html": [
       "<div><div id=ee1089bc-6621-4d02-bc3f-9f35dbf19946 style=\"display:none; background-color:#9D6CFF; color:white; width:200px; height:30px; padding-left:5px; border-radius:4px; flex-direction:row; justify-content:space-around; align-items:center;\" onmouseover=\"this.style.backgroundColor='#BA9BF8'\" onmouseout=\"this.style.backgroundColor='#9D6CFF'\" onclick=\"window.commands?.execute('create-mitosheet-from-dataframe-output');\">See Full Dataframe in Mito</div> <script> if (window.commands.hasCommand('create-mitosheet-from-dataframe-output')) document.getElementById('ee1089bc-6621-4d02-bc3f-9f35dbf19946').style.display = 'flex' </script> <table border=\"1\" class=\"dataframe\">\n",
       "  <thead>\n",
       "    <tr style=\"text-align: right;\">\n",
       "      <th></th>\n",
       "      <th>id</th>\n",
       "      <th>parcelid</th>\n",
       "      <th>airconditioningtypeid</th>\n",
       "      <th>architecturalstyletypeid</th>\n",
       "      <th>basementsqft</th>\n",
       "      <th>bathroomcnt</th>\n",
       "      <th>bedroomcnt</th>\n",
       "      <th>buildingclasstypeid</th>\n",
       "      <th>buildingqualitytypeid</th>\n",
       "      <th>calculatedbathnbr</th>\n",
       "      <th>...</th>\n",
       "      <th>censustractandblock</th>\n",
       "      <th>logerror</th>\n",
       "      <th>transactiondate</th>\n",
       "      <th>airconditioningdesc</th>\n",
       "      <th>architecturalstyledesc</th>\n",
       "      <th>buildingclassdesc</th>\n",
       "      <th>heatingorsystemdesc</th>\n",
       "      <th>propertylandusedesc</th>\n",
       "      <th>storydesc</th>\n",
       "      <th>typeconstructiondesc</th>\n",
       "    </tr>\n",
       "  </thead>\n",
       "  <tbody>\n",
       "    <tr>\n",
       "      <th>0</th>\n",
       "      <td>1727539</td>\n",
       "      <td>14297519</td>\n",
       "      <td>NaN</td>\n",
       "      <td>NaN</td>\n",
       "      <td>NaN</td>\n",
       "      <td>3.50</td>\n",
       "      <td>4.00</td>\n",
       "      <td>NaN</td>\n",
       "      <td>NaN</td>\n",
       "      <td>3.50</td>\n",
       "      <td>...</td>\n",
       "      <td>60590630072012.00</td>\n",
       "      <td>0.03</td>\n",
       "      <td>2017-01-01</td>\n",
       "      <td>NaN</td>\n",
       "      <td>NaN</td>\n",
       "      <td>NaN</td>\n",
       "      <td>NaN</td>\n",
       "      <td>Single Family Residential</td>\n",
       "      <td>NaN</td>\n",
       "      <td>NaN</td>\n",
       "    </tr>\n",
       "    <tr>\n",
       "      <th>1</th>\n",
       "      <td>1387261</td>\n",
       "      <td>17052889</td>\n",
       "      <td>NaN</td>\n",
       "      <td>NaN</td>\n",
       "      <td>NaN</td>\n",
       "      <td>1.00</td>\n",
       "      <td>2.00</td>\n",
       "      <td>NaN</td>\n",
       "      <td>NaN</td>\n",
       "      <td>1.00</td>\n",
       "      <td>...</td>\n",
       "      <td>61110010023006.00</td>\n",
       "      <td>0.06</td>\n",
       "      <td>2017-01-01</td>\n",
       "      <td>NaN</td>\n",
       "      <td>NaN</td>\n",
       "      <td>NaN</td>\n",
       "      <td>NaN</td>\n",
       "      <td>Single Family Residential</td>\n",
       "      <td>NaN</td>\n",
       "      <td>NaN</td>\n",
       "    </tr>\n",
       "    <tr>\n",
       "      <th>2</th>\n",
       "      <td>11677</td>\n",
       "      <td>14186244</td>\n",
       "      <td>NaN</td>\n",
       "      <td>NaN</td>\n",
       "      <td>NaN</td>\n",
       "      <td>2.00</td>\n",
       "      <td>3.00</td>\n",
       "      <td>NaN</td>\n",
       "      <td>NaN</td>\n",
       "      <td>2.00</td>\n",
       "      <td>...</td>\n",
       "      <td>60590218022012.00</td>\n",
       "      <td>0.01</td>\n",
       "      <td>2017-01-01</td>\n",
       "      <td>NaN</td>\n",
       "      <td>NaN</td>\n",
       "      <td>NaN</td>\n",
       "      <td>NaN</td>\n",
       "      <td>Single Family Residential</td>\n",
       "      <td>NaN</td>\n",
       "      <td>NaN</td>\n",
       "    </tr>\n",
       "    <tr>\n",
       "      <th>3</th>\n",
       "      <td>2288172</td>\n",
       "      <td>12177905</td>\n",
       "      <td>NaN</td>\n",
       "      <td>NaN</td>\n",
       "      <td>NaN</td>\n",
       "      <td>3.00</td>\n",
       "      <td>4.00</td>\n",
       "      <td>NaN</td>\n",
       "      <td>8.00</td>\n",
       "      <td>3.00</td>\n",
       "      <td>...</td>\n",
       "      <td>60373001001006.00</td>\n",
       "      <td>-0.10</td>\n",
       "      <td>2017-01-01</td>\n",
       "      <td>NaN</td>\n",
       "      <td>NaN</td>\n",
       "      <td>NaN</td>\n",
       "      <td>Central</td>\n",
       "      <td>Single Family Residential</td>\n",
       "      <td>NaN</td>\n",
       "      <td>NaN</td>\n",
       "    </tr>\n",
       "    <tr>\n",
       "      <th>4</th>\n",
       "      <td>1970746</td>\n",
       "      <td>10887214</td>\n",
       "      <td>1.00</td>\n",
       "      <td>NaN</td>\n",
       "      <td>NaN</td>\n",
       "      <td>3.00</td>\n",
       "      <td>3.00</td>\n",
       "      <td>NaN</td>\n",
       "      <td>8.00</td>\n",
       "      <td>3.00</td>\n",
       "      <td>...</td>\n",
       "      <td>60371236012000.00</td>\n",
       "      <td>0.01</td>\n",
       "      <td>2017-01-01</td>\n",
       "      <td>Central</td>\n",
       "      <td>NaN</td>\n",
       "      <td>NaN</td>\n",
       "      <td>Central</td>\n",
       "      <td>Condominium</td>\n",
       "      <td>NaN</td>\n",
       "      <td>NaN</td>\n",
       "    </tr>\n",
       "  </tbody>\n",
       "</table></div>"
      ],
      "text/plain": [
       "        id  parcelid  airconditioningtypeid  architecturalstyletypeid  \\\n",
       "0  1727539  14297519                    NaN                       NaN   \n",
       "1  1387261  17052889                    NaN                       NaN   \n",
       "2    11677  14186244                    NaN                       NaN   \n",
       "3  2288172  12177905                    NaN                       NaN   \n",
       "4  1970746  10887214                   1.00                       NaN   \n",
       "\n",
       "   basementsqft  bathroomcnt  bedroomcnt  buildingclasstypeid  \\\n",
       "0           NaN         3.50        4.00                  NaN   \n",
       "1           NaN         1.00        2.00                  NaN   \n",
       "2           NaN         2.00        3.00                  NaN   \n",
       "3           NaN         3.00        4.00                  NaN   \n",
       "4           NaN         3.00        3.00                  NaN   \n",
       "\n",
       "   buildingqualitytypeid  calculatedbathnbr  ...  censustractandblock  \\\n",
       "0                    NaN               3.50  ...    60590630072012.00   \n",
       "1                    NaN               1.00  ...    61110010023006.00   \n",
       "2                    NaN               2.00  ...    60590218022012.00   \n",
       "3                   8.00               3.00  ...    60373001001006.00   \n",
       "4                   8.00               3.00  ...    60371236012000.00   \n",
       "\n",
       "   logerror  transactiondate  airconditioningdesc  architecturalstyledesc  \\\n",
       "0      0.03       2017-01-01                  NaN                     NaN   \n",
       "1      0.06       2017-01-01                  NaN                     NaN   \n",
       "2      0.01       2017-01-01                  NaN                     NaN   \n",
       "3     -0.10       2017-01-01                  NaN                     NaN   \n",
       "4      0.01       2017-01-01              Central                     NaN   \n",
       "\n",
       "   buildingclassdesc  heatingorsystemdesc        propertylandusedesc  \\\n",
       "0                NaN                  NaN  Single Family Residential   \n",
       "1                NaN                  NaN  Single Family Residential   \n",
       "2                NaN                  NaN  Single Family Residential   \n",
       "3                NaN              Central  Single Family Residential   \n",
       "4                NaN              Central                Condominium   \n",
       "\n",
       "   storydesc  typeconstructiondesc  \n",
       "0        NaN                   NaN  \n",
       "1        NaN                   NaN  \n",
       "2        NaN                   NaN  \n",
       "3        NaN                   NaN  \n",
       "4        NaN                   NaN  \n",
       "\n",
       "[5 rows x 68 columns]"
      ]
     },
     "execution_count": 11,
     "metadata": {},
     "output_type": "execute_result"
    }
   ],
   "source": [
    "zillow.head()"
   ]
  },
  {
   "cell_type": "code",
   "execution_count": 12,
   "id": "f7e5082f",
   "metadata": {},
   "outputs": [],
   "source": [
    "df=zillow2"
   ]
  },
  {
   "cell_type": "markdown",
   "id": "59b4013f",
   "metadata": {},
   "source": [
    "2. Summarize your data (summary stats, info, dtypes, shape, distributions, value_counts, etc.)</p>\n",
    "\n"
   ]
  },
  {
   "cell_type": "code",
   "execution_count": 13,
   "id": "4fb0df04",
   "metadata": {},
   "outputs": [
    {
     "data": {
      "text/html": [
       "<div><div id=85d5ef14-ae18-4d6f-a4b6-b554a2706dc8 style=\"display:none; background-color:#9D6CFF; color:white; width:200px; height:30px; padding-left:5px; border-radius:4px; flex-direction:row; justify-content:space-around; align-items:center;\" onmouseover=\"this.style.backgroundColor='#BA9BF8'\" onmouseout=\"this.style.backgroundColor='#9D6CFF'\" onclick=\"window.commands?.execute('create-mitosheet-from-dataframe-output');\">See Full Dataframe in Mito</div> <script> if (window.commands.hasCommand('create-mitosheet-from-dataframe-output')) document.getElementById('85d5ef14-ae18-4d6f-a4b6-b554a2706dc8').style.display = 'flex' </script> <table border=\"1\" class=\"dataframe\">\n",
       "  <thead>\n",
       "    <tr style=\"text-align: right;\">\n",
       "      <th></th>\n",
       "      <th>count</th>\n",
       "      <th>mean</th>\n",
       "      <th>std</th>\n",
       "      <th>min</th>\n",
       "      <th>25%</th>\n",
       "      <th>50%</th>\n",
       "      <th>75%</th>\n",
       "      <th>max</th>\n",
       "    </tr>\n",
       "  </thead>\n",
       "  <tbody>\n",
       "    <tr>\n",
       "      <th>id</th>\n",
       "      <td>77575.00</td>\n",
       "      <td>1495352.00</td>\n",
       "      <td>860970.27</td>\n",
       "      <td>349.00</td>\n",
       "      <td>752105.00</td>\n",
       "      <td>1498195.00</td>\n",
       "      <td>2240715.00</td>\n",
       "      <td>2982274.00</td>\n",
       "    </tr>\n",
       "    <tr>\n",
       "      <th>parcelid</th>\n",
       "      <td>77575.00</td>\n",
       "      <td>13006298.98</td>\n",
       "      <td>3478020.75</td>\n",
       "      <td>10711855.00</td>\n",
       "      <td>11538198.00</td>\n",
       "      <td>12530531.00</td>\n",
       "      <td>14211235.50</td>\n",
       "      <td>167689317.00</td>\n",
       "    </tr>\n",
       "    <tr>\n",
       "      <th>airconditioningtypeid</th>\n",
       "      <td>25006.00</td>\n",
       "      <td>1.81</td>\n",
       "      <td>2.97</td>\n",
       "      <td>1.00</td>\n",
       "      <td>1.00</td>\n",
       "      <td>1.00</td>\n",
       "      <td>1.00</td>\n",
       "      <td>13.00</td>\n",
       "    </tr>\n",
       "    <tr>\n",
       "      <th>architecturalstyletypeid</th>\n",
       "      <td>206.00</td>\n",
       "      <td>7.39</td>\n",
       "      <td>2.73</td>\n",
       "      <td>2.00</td>\n",
       "      <td>7.00</td>\n",
       "      <td>7.00</td>\n",
       "      <td>7.00</td>\n",
       "      <td>21.00</td>\n",
       "    </tr>\n",
       "    <tr>\n",
       "      <th>basementsqft</th>\n",
       "      <td>50.00</td>\n",
       "      <td>679.72</td>\n",
       "      <td>689.70</td>\n",
       "      <td>38.00</td>\n",
       "      <td>273.00</td>\n",
       "      <td>515.00</td>\n",
       "      <td>796.50</td>\n",
       "      <td>3560.00</td>\n",
       "    </tr>\n",
       "    <tr>\n",
       "      <th>...</th>\n",
       "      <td>...</td>\n",
       "      <td>...</td>\n",
       "      <td>...</td>\n",
       "      <td>...</td>\n",
       "      <td>...</td>\n",
       "      <td>...</td>\n",
       "      <td>...</td>\n",
       "      <td>...</td>\n",
       "    </tr>\n",
       "    <tr>\n",
       "      <th>landtaxvaluedollarcnt</th>\n",
       "      <td>77573.00</td>\n",
       "      <td>301145.30</td>\n",
       "      <td>492728.73</td>\n",
       "      <td>161.00</td>\n",
       "      <td>85293.00</td>\n",
       "      <td>203174.00</td>\n",
       "      <td>366753.00</td>\n",
       "      <td>48952198.00</td>\n",
       "    </tr>\n",
       "    <tr>\n",
       "      <th>taxamount</th>\n",
       "      <td>77570.00</td>\n",
       "      <td>5995.82</td>\n",
       "      <td>7628.87</td>\n",
       "      <td>19.92</td>\n",
       "      <td>2712.63</td>\n",
       "      <td>4448.26</td>\n",
       "      <td>6926.78</td>\n",
       "      <td>586639.30</td>\n",
       "    </tr>\n",
       "    <tr>\n",
       "      <th>taxdelinquencyyear</th>\n",
       "      <td>2900.00</td>\n",
       "      <td>14.09</td>\n",
       "      <td>2.18</td>\n",
       "      <td>3.00</td>\n",
       "      <td>14.00</td>\n",
       "      <td>15.00</td>\n",
       "      <td>15.00</td>\n",
       "      <td>99.00</td>\n",
       "    </tr>\n",
       "    <tr>\n",
       "      <th>censustractandblock</th>\n",
       "      <td>77328.00</td>\n",
       "      <td>60496658430265.16</td>\n",
       "      <td>1533375678743.79</td>\n",
       "      <td>60371011101000.00</td>\n",
       "      <td>60373109004005.00</td>\n",
       "      <td>60376032001020.00</td>\n",
       "      <td>60590423251007.00</td>\n",
       "      <td>483030105084015.00</td>\n",
       "    </tr>\n",
       "    <tr>\n",
       "      <th>logerror</th>\n",
       "      <td>77575.00</td>\n",
       "      <td>0.02</td>\n",
       "      <td>0.17</td>\n",
       "      <td>-4.66</td>\n",
       "      <td>-0.02</td>\n",
       "      <td>0.01</td>\n",
       "      <td>0.04</td>\n",
       "      <td>5.26</td>\n",
       "    </tr>\n",
       "  </tbody>\n",
       "</table></div>"
      ],
      "text/plain": [
       "                                count              mean              std  \\\n",
       "id                           77575.00        1495352.00        860970.27   \n",
       "parcelid                     77575.00       13006298.98       3478020.75   \n",
       "airconditioningtypeid        25006.00              1.81             2.97   \n",
       "architecturalstyletypeid       206.00              7.39             2.73   \n",
       "basementsqft                    50.00            679.72           689.70   \n",
       "bathroomcnt                  77575.00              2.30             1.00   \n",
       "bedroomcnt                   77575.00              3.05             1.14   \n",
       "buildingclasstypeid             15.00              3.93             0.26   \n",
       "buildingqualitytypeid        49809.00              6.53             1.72   \n",
       "calculatedbathnbr            76960.00              2.32             0.98   \n",
       "decktypeid                     614.00             66.00             0.00   \n",
       "finishedfloor1squarefeet      6035.00           1366.20           670.80   \n",
       "calculatedfinishedsquarefeet 77375.00           1784.94           954.26   \n",
       "finishedsquarefeet12         73920.00           1760.29           934.36   \n",
       "finishedsquarefeet13            42.00           1388.76           122.22   \n",
       "finishedsquarefeet15          3027.00           2354.49          1186.99   \n",
       "finishedsquarefeet50          6035.00           1381.43           725.90   \n",
       "finishedsquarefeet6            386.00           2082.50          1240.38   \n",
       "fips                         77575.00           6048.81            20.75   \n",
       "fireplacecnt                  8287.00              1.19             0.49   \n",
       "fullbathcnt                  76960.00              2.25             0.97   \n",
       "garagecarcnt                 25517.00              1.82             0.59   \n",
       "garagetotalsqft              25517.00            350.06           261.65   \n",
       "hashottuborspa                1539.00              1.00             0.00   \n",
       "heatingorsystemtypeid        49570.00              3.92             3.59   \n",
       "latitude                     77575.00       34008366.13        265287.75   \n",
       "longitude                    77575.00     -118203713.57        359382.61   \n",
       "lotsizesquarefeet            69318.00          29974.45        123307.62   \n",
       "poolcnt                      16173.00              1.00             0.00   \n",
       "poolsizesum                    869.00            517.93           156.57   \n",
       "pooltypeid10                   465.00              1.00             0.00   \n",
       "pooltypeid2                   1074.00              1.00             0.00   \n",
       "pooltypeid7                  15078.00              1.00             0.00   \n",
       "propertylandusetypeid        77575.00            261.82             5.14   \n",
       "rawcensustractandblock       77575.00       60491228.76        205876.80   \n",
       "regionidcity                 76103.00          33683.39         47212.86   \n",
       "regionidcounty               77575.00           2534.54           801.45   \n",
       "regionidneighborhood         30973.00         187730.30        165045.23   \n",
       "regionidzip                  77525.00          96586.68          3793.65   \n",
       "roomcnt                      77575.00              1.48             2.82   \n",
       "storytypeid                     50.00              7.00             0.00   \n",
       "threequarterbathnbr          10105.00              1.01             0.12   \n",
       "typeconstructiontypeid         222.00              6.04             0.56   \n",
       "unitcnt                      50703.00              1.11             1.17   \n",
       "yardbuildingsqft17            2393.00            305.46           238.74   \n",
       "yardbuildingsqft26              70.00            216.39           190.18   \n",
       "yearbuilt                    77306.00           1968.61            23.79   \n",
       "numberofstories              17596.00              1.43             0.54   \n",
       "fireplaceflag                  172.00              1.00             0.00   \n",
       "structuretaxvaluedollarcnt   77460.00         189281.45        230413.73   \n",
       "taxvaluedollarcnt            77574.00         490144.70        653802.18   \n",
       "assessmentyear               77575.00           2016.00             0.00   \n",
       "landtaxvaluedollarcnt        77573.00         301145.30        492728.73   \n",
       "taxamount                    77570.00           5995.82          7628.87   \n",
       "taxdelinquencyyear            2900.00             14.09             2.18   \n",
       "censustractandblock          77328.00 60496658430265.16 1533375678743.79   \n",
       "logerror                     77575.00              0.02             0.17   \n",
       "\n",
       "                                           min               25%  \\\n",
       "id                                      349.00         752105.00   \n",
       "parcelid                           10711855.00       11538198.00   \n",
       "airconditioningtypeid                     1.00              1.00   \n",
       "architecturalstyletypeid                  2.00              7.00   \n",
       "basementsqft                             38.00            273.00   \n",
       "bathroomcnt                               0.00              2.00   \n",
       "bedroomcnt                                0.00              2.00   \n",
       "buildingclasstypeid                       3.00              4.00   \n",
       "buildingqualitytypeid                     1.00              6.00   \n",
       "calculatedbathnbr                         1.00              2.00   \n",
       "decktypeid                               66.00             66.00   \n",
       "finishedfloor1squarefeet                 44.00            955.00   \n",
       "calculatedfinishedsquarefeet            128.00           1182.00   \n",
       "finishedsquarefeet12                    128.00           1172.00   \n",
       "finishedsquarefeet13                   1056.00           1344.00   \n",
       "finishedsquarefeet15                    598.00           1624.00   \n",
       "finishedsquarefeet50                     44.00            956.00   \n",
       "finishedsquarefeet6                     380.00            993.75   \n",
       "fips                                   6037.00           6037.00   \n",
       "fireplacecnt                              1.00              1.00   \n",
       "fullbathcnt                               1.00              2.00   \n",
       "garagecarcnt                              0.00              2.00   \n",
       "garagetotalsqft                           0.00              0.00   \n",
       "hashottuborspa                            1.00              1.00   \n",
       "heatingorsystemtypeid                     1.00              2.00   \n",
       "latitude                           33339527.00       33814629.00   \n",
       "longitude                        -119475416.00     -118415000.00   \n",
       "lotsizesquarefeet                       236.00           5700.00   \n",
       "poolcnt                                   1.00              1.00   \n",
       "poolsizesum                              24.00            424.00   \n",
       "pooltypeid10                              1.00              1.00   \n",
       "pooltypeid2                               1.00              1.00   \n",
       "pooltypeid7                               1.00              1.00   \n",
       "propertylandusetypeid                    31.00            261.00   \n",
       "rawcensustractandblock             60371011.10       60373109.00   \n",
       "regionidcity                           3491.00          12447.00   \n",
       "regionidcounty                         1286.00           1286.00   \n",
       "regionidneighborhood                   6952.00          46736.00   \n",
       "regionidzip                           95982.00          96193.00   \n",
       "roomcnt                                   0.00              0.00   \n",
       "storytypeid                               7.00              7.00   \n",
       "threequarterbathnbr                       1.00              1.00   \n",
       "typeconstructiontypeid                    4.00              6.00   \n",
       "unitcnt                                   1.00              1.00   \n",
       "yardbuildingsqft17                       11.00            170.00   \n",
       "yardbuildingsqft26                       12.00             61.50   \n",
       "yearbuilt                              1824.00           1953.00   \n",
       "numberofstories                           1.00              1.00   \n",
       "fireplaceflag                             1.00              1.00   \n",
       "structuretaxvaluedollarcnt               44.00          84182.00   \n",
       "taxvaluedollarcnt                      1000.00         206898.50   \n",
       "assessmentyear                         2016.00           2016.00   \n",
       "landtaxvaluedollarcnt                   161.00          85293.00   \n",
       "taxamount                                19.92           2712.63   \n",
       "taxdelinquencyyear                        3.00             14.00   \n",
       "censustractandblock          60371011101000.00 60373109004005.00   \n",
       "logerror                                 -4.66             -0.02   \n",
       "\n",
       "                                           50%               75%  \\\n",
       "id                                  1498195.00        2240715.00   \n",
       "parcelid                           12530531.00       14211235.50   \n",
       "airconditioningtypeid                     1.00              1.00   \n",
       "architecturalstyletypeid                  7.00              7.00   \n",
       "basementsqft                            515.00            796.50   \n",
       "bathroomcnt                               2.00              3.00   \n",
       "bedroomcnt                                3.00              4.00   \n",
       "buildingclasstypeid                       4.00              4.00   \n",
       "buildingqualitytypeid                     6.00              8.00   \n",
       "calculatedbathnbr                         2.00              3.00   \n",
       "decktypeid                               66.00             66.00   \n",
       "finishedfloor1squarefeet               1257.00           1615.00   \n",
       "calculatedfinishedsquarefeet           1542.00           2112.00   \n",
       "finishedsquarefeet12                   1523.00           2075.00   \n",
       "finishedsquarefeet13                   1440.00           1440.00   \n",
       "finishedsquarefeet15                   2088.00           2831.00   \n",
       "finishedsquarefeet50                   1259.00           1621.00   \n",
       "finishedsquarefeet6                    1812.50           3053.50   \n",
       "fips                                   6037.00           6059.00   \n",
       "fireplacecnt                              1.00              1.00   \n",
       "fullbathcnt                               2.00              3.00   \n",
       "garagecarcnt                              2.00              2.00   \n",
       "garagetotalsqft                         436.00            492.00   \n",
       "hashottuborspa                            1.00              1.00   \n",
       "heatingorsystemtypeid                     2.00              7.00   \n",
       "latitude                           34022000.00       34174307.50   \n",
       "longitude                        -118181000.00     -117928642.50   \n",
       "lotsizesquarefeet                      7206.00          11837.00   \n",
       "poolcnt                                   1.00              1.00   \n",
       "poolsizesum                             500.00            600.00   \n",
       "pooltypeid10                              1.00              1.00   \n",
       "pooltypeid2                               1.00              1.00   \n",
       "pooltypeid7                               1.00              1.00   \n",
       "propertylandusetypeid                   261.00            266.00   \n",
       "rawcensustractandblock             60376031.02       60590423.25   \n",
       "regionidcity                          25218.00          45457.00   \n",
       "regionidcounty                         3101.00           3101.00   \n",
       "regionidneighborhood                 118849.00         274765.00   \n",
       "regionidzip                           96389.00          96987.00   \n",
       "roomcnt                                   0.00              0.00   \n",
       "storytypeid                               7.00              7.00   \n",
       "threequarterbathnbr                       1.00              1.00   \n",
       "typeconstructiontypeid                    6.00              6.00   \n",
       "unitcnt                                   1.00              1.00   \n",
       "yardbuildingsqft17                      250.00            364.00   \n",
       "yardbuildingsqft26                      164.50            310.50   \n",
       "yearbuilt                              1970.00           1987.00   \n",
       "numberofstories                           1.00              2.00   \n",
       "fireplaceflag                             1.00              1.00   \n",
       "structuretaxvaluedollarcnt           136404.50         218734.00   \n",
       "taxvaluedollarcnt                    358878.50         569000.00   \n",
       "assessmentyear                         2016.00           2016.00   \n",
       "landtaxvaluedollarcnt                203174.00         366753.00   \n",
       "taxamount                              4448.26           6926.78   \n",
       "taxdelinquencyyear                       15.00             15.00   \n",
       "censustractandblock          60376032001020.00 60590423251007.00   \n",
       "logerror                                  0.01              0.04   \n",
       "\n",
       "                                            max  \n",
       "id                                   2982274.00  \n",
       "parcelid                           167689317.00  \n",
       "airconditioningtypeid                     13.00  \n",
       "architecturalstyletypeid                  21.00  \n",
       "basementsqft                            3560.00  \n",
       "bathroomcnt                               18.00  \n",
       "bedroomcnt                                16.00  \n",
       "buildingclasstypeid                        4.00  \n",
       "buildingqualitytypeid                     12.00  \n",
       "calculatedbathnbr                         18.00  \n",
       "decktypeid                                66.00  \n",
       "finishedfloor1squarefeet                6912.00  \n",
       "calculatedfinishedsquarefeet           35640.00  \n",
       "finishedsquarefeet12                   21929.00  \n",
       "finishedsquarefeet13                    1560.00  \n",
       "finishedsquarefeet15                   35640.00  \n",
       "finishedsquarefeet50                   12467.00  \n",
       "finishedsquarefeet6                     5598.00  \n",
       "fips                                    6111.00  \n",
       "fireplacecnt                               5.00  \n",
       "fullbathcnt                               18.00  \n",
       "garagecarcnt                              14.00  \n",
       "garagetotalsqft                         4251.00  \n",
       "hashottuborspa                             1.00  \n",
       "heatingorsystemtypeid                     24.00  \n",
       "latitude                            34818767.00  \n",
       "longitude                         -117554636.00  \n",
       "lotsizesquarefeet                    6971010.00  \n",
       "poolcnt                                    1.00  \n",
       "poolsizesum                             1500.00  \n",
       "pooltypeid10                               1.00  \n",
       "pooltypeid2                                1.00  \n",
       "pooltypeid7                                1.00  \n",
       "propertylandusetypeid                    275.00  \n",
       "rawcensustractandblock              61110091.00  \n",
       "regionidcity                          396556.00  \n",
       "regionidcounty                          3101.00  \n",
       "regionidneighborhood                  764167.00  \n",
       "regionidzip                           399675.00  \n",
       "roomcnt                                   15.00  \n",
       "storytypeid                                7.00  \n",
       "threequarterbathnbr                        7.00  \n",
       "typeconstructiontypeid                    13.00  \n",
       "unitcnt                                  237.00  \n",
       "yardbuildingsqft17                      3191.00  \n",
       "yardbuildingsqft26                       868.00  \n",
       "yearbuilt                               2016.00  \n",
       "numberofstories                            6.00  \n",
       "fireplaceflag                              1.00  \n",
       "structuretaxvaluedollarcnt          11421790.00  \n",
       "taxvaluedollarcnt                   49061236.00  \n",
       "assessmentyear                          2016.00  \n",
       "landtaxvaluedollarcnt               48952198.00  \n",
       "taxamount                             586639.30  \n",
       "taxdelinquencyyear                        99.00  \n",
       "censustractandblock          483030105084015.00  \n",
       "logerror                                   5.26  "
      ]
     },
     "execution_count": 13,
     "metadata": {},
     "output_type": "execute_result"
    }
   ],
   "source": [
    "df.describe().T"
   ]
  },
  {
   "cell_type": "code",
   "execution_count": 14,
   "id": "4d766dfb",
   "metadata": {},
   "outputs": [
    {
     "data": {
      "image/png": "[encoded data removed]",
      "text/plain": [
       "<Figure size 432x288 with 64 Axes>"
      ]
     },
     "metadata": {
      "needs_background": "light"
     },
     "output_type": "display_data"
    }
   ],
   "source": [
    "df.hist();\n"
   ]
  },
  {
   "cell_type": "code",
   "execution_count": 15,
   "id": "d93efa6f",
   "metadata": {},
   "outputs": [
    {
     "name": "stdout",
     "output_type": "stream",
     "text": [
      "<class 'pandas.core.frame.DataFrame'>\n",
      "RangeIndex: 77575 entries, 0 to 77574\n",
      "Data columns (total 68 columns):\n",
      " #   Column                        Non-Null Count  Dtype  \n",
      "---  ------                        --------------  -----  \n",
      " 0   id                            77575 non-null  int64  \n",
      " 1   parcelid                      77575 non-null  int64  \n",
      " 2   airconditioningtypeid         25006 non-null  float64\n",
      " 3   architecturalstyletypeid      206 non-null    float64\n",
      " 4   basementsqft                  50 non-null     float64\n",
      " 5   bathroomcnt                   77575 non-null  float64\n",
      " 6   bedroomcnt                    77575 non-null  float64\n",
      " 7   buildingclasstypeid           15 non-null     float64\n",
      " 8   buildingqualitytypeid         49809 non-null  float64\n",
      " 9   calculatedbathnbr             76960 non-null  float64\n",
      " 10  decktypeid                    614 non-null    float64\n",
      " 11  finishedfloor1squarefeet      6035 non-null   float64\n",
      " 12  calculatedfinishedsquarefeet  77375 non-null  float64\n",
      " 13  finishedsquarefeet12          73920 non-null  float64\n",
      " 14  finishedsquarefeet13          42 non-null     float64\n",
      " 15  finishedsquarefeet15          3027 non-null   float64\n",
      " 16  finishedsquarefeet50          6035 non-null   float64\n",
      " 17  finishedsquarefeet6           386 non-null    float64\n",
      " 18  fips                          77575 non-null  float64\n",
      " 19  fireplacecnt                  8287 non-null   float64\n",
      " 20  fullbathcnt                   76960 non-null  float64\n",
      " 21  garagecarcnt                  25517 non-null  float64\n",
      " 22  garagetotalsqft               25517 non-null  float64\n",
      " 23  hashottuborspa                1539 non-null   float64\n",
      " 24  heatingorsystemtypeid         49570 non-null  float64\n",
      " 25  latitude                      77575 non-null  float64\n",
      " 26  longitude                     77575 non-null  float64\n",
      " 27  lotsizesquarefeet             69318 non-null  float64\n",
      " 28  poolcnt                       16173 non-null  float64\n",
      " 29  poolsizesum                   869 non-null    float64\n",
      " 30  pooltypeid10                  465 non-null    float64\n",
      " 31  pooltypeid2                   1074 non-null   float64\n",
      " 32  pooltypeid7                   15078 non-null  float64\n",
      " 33  propertycountylandusecode     77575 non-null  object \n",
      " 34  propertylandusetypeid         77575 non-null  float64\n",
      " 35  propertyzoningdesc            50475 non-null  object \n",
      " 36  rawcensustractandblock        77575 non-null  float64\n",
      " 37  regionidcity                  76103 non-null  float64\n",
      " 38  regionidcounty                77575 non-null  float64\n",
      " 39  regionidneighborhood          30973 non-null  float64\n",
      " 40  regionidzip                   77525 non-null  float64\n",
      " 41  roomcnt                       77575 non-null  float64\n",
      " 42  storytypeid                   50 non-null     float64\n",
      " 43  threequarterbathnbr           10105 non-null  float64\n",
      " 44  typeconstructiontypeid        222 non-null    float64\n",
      " 45  unitcnt                       50703 non-null  float64\n",
      " 46  yardbuildingsqft17            2393 non-null   float64\n",
      " 47  yardbuildingsqft26            70 non-null     float64\n",
      " 48  yearbuilt                     77306 non-null  float64\n",
      " 49  numberofstories               17596 non-null  float64\n",
      " 50  fireplaceflag                 172 non-null    float64\n",
      " 51  structuretaxvaluedollarcnt    77460 non-null  float64\n",
      " 52  taxvaluedollarcnt             77574 non-null  float64\n",
      " 53  assessmentyear                77575 non-null  float64\n",
      " 54  landtaxvaluedollarcnt         77573 non-null  float64\n",
      " 55  taxamount                     77570 non-null  float64\n",
      " 56  taxdelinquencyflag            2900 non-null   object \n",
      " 57  taxdelinquencyyear            2900 non-null   float64\n",
      " 58  censustractandblock           77328 non-null  float64\n",
      " 59  logerror                      77575 non-null  float64\n",
      " 60  transactiondate               77575 non-null  object \n",
      " 61  airconditioningdesc           25006 non-null  object \n",
      " 62  architecturalstyledesc        206 non-null    object \n",
      " 63  buildingclassdesc             15 non-null     object \n",
      " 64  heatingorsystemdesc           49570 non-null  object \n",
      " 65  propertylandusedesc           77575 non-null  object \n",
      " 66  storydesc                     50 non-null     object \n",
      " 67  typeconstructiondesc          222 non-null    object \n",
      "dtypes: float64(55), int64(2), object(11)\n",
      "memory usage: 40.2+ MB\n"
     ]
    }
   ],
   "source": [
    "df.info()"
   ]
  },
  {
   "cell_type": "code",
   "execution_count": 16,
   "id": "52883c40",
   "metadata": {},
   "outputs": [
    {
     "data": {
      "text/plain": [
       "id                            int64\n",
       "parcelid                      int64\n",
       "airconditioningtypeid       float64\n",
       "architecturalstyletypeid    float64\n",
       "basementsqft                float64\n",
       "                             ...   \n",
       "buildingclassdesc            object\n",
       "heatingorsystemdesc          object\n",
       "propertylandusedesc          object\n",
       "storydesc                    object\n",
       "typeconstructiondesc         object\n",
       "Length: 68, dtype: object"
      ]
     },
     "execution_count": 16,
     "metadata": {},
     "output_type": "execute_result"
    }
   ],
   "source": [
    "df.dtypes"
   ]
  },
  {
   "cell_type": "code",
   "execution_count": 17,
   "id": "ef58df6e",
   "metadata": {},
   "outputs": [],
   "source": [
    "shape1 = df.shape"
   ]
  },
  {
   "cell_type": "code",
   "execution_count": 18,
   "id": "08b4bcd0",
   "metadata": {},
   "outputs": [
    {
     "data": {
      "text/plain": [
       "id                              0\n",
       "parcelid                        0\n",
       "airconditioningtypeid       52569\n",
       "architecturalstyletypeid    77369\n",
       "basementsqft                77525\n",
       "                            ...  \n",
       "buildingclassdesc           77560\n",
       "heatingorsystemdesc         28005\n",
       "propertylandusedesc             0\n",
       "storydesc                   77525\n",
       "typeconstructiondesc        77353\n",
       "Length: 68, dtype: int64"
      ]
     },
     "execution_count": 18,
     "metadata": {},
     "output_type": "execute_result"
    }
   ],
   "source": [
    "# How many nulls have in each column?\n",
    "\n",
    "df.isnull().sum()"
   ]
  },
  {
   "cell_type": "code",
   "execution_count": 19,
   "id": "11e2a2be",
   "metadata": {},
   "outputs": [
    {
     "data": {
      "text/plain": [
       "id                          0.00\n",
       "parcelid                    0.00\n",
       "airconditioningtypeid      67.77\n",
       "architecturalstyletypeid   99.73\n",
       "basementsqft               99.94\n",
       "                            ... \n",
       "buildingclassdesc          99.98\n",
       "heatingorsystemdesc        36.10\n",
       "propertylandusedesc         0.00\n",
       "storydesc                  99.94\n",
       "typeconstructiondesc       99.71\n",
       "Length: 68, dtype: float64"
      ]
     },
     "execution_count": 19,
     "metadata": {},
     "output_type": "execute_result"
    }
   ],
   "source": [
    "# % values missing in each column\n",
    "\n",
    "df.isnull().sum()/len(df)*100"
   ]
  },
  {
   "cell_type": "code",
   "execution_count": null,
   "id": "83f44d10",
   "metadata": {},
   "outputs": [],
   "source": [
    "# Percent complete rach column\n",
    "\n",
    "complete = 100 - (df.isnull().sum()/len(df)*100)\n",
    "complete"
   ]
  },
  {
   "cell_type": "code",
   "execution_count": null,
   "id": "20f9dafb",
   "metadata": {},
   "outputs": [],
   "source": [
    "# How many nulls have in each row?\n",
    "\n",
    "df.isnull().sum(axis =1).value_counts()"
   ]
  },
  {
   "cell_type": "code",
   "execution_count": null,
   "id": "207b6080",
   "metadata": {},
   "outputs": [],
   "source": [
    "columns = df.columns.to_list()\n"
   ]
  },
  {
   "cell_type": "code",
   "execution_count": null,
   "id": "b6acf93e",
   "metadata": {},
   "outputs": [],
   "source": [
    "for col in columns:\n",
    "    print(col.upper())\n",
    "    print('\\n')\n",
    "    print(df[col].value_counts())\n",
    "    print('\\n')"
   ]
  },
  {
   "cell_type": "code",
   "execution_count": null,
   "id": "0970d57e",
   "metadata": {},
   "outputs": [],
   "source": []
  },
  {
   "cell_type": "code",
   "execution_count": null,
   "metadata": {},
   "outputs": [],
   "source": []
  },
  {
   "cell_type": "markdown",
   "id": "48738142",
   "metadata": {},
   "source": [
    "3. Write a function that takes in a dataframe of observations and attributes and returns a dataframe where each row is an atttribute name, the first column is the number of rows with missing values for that attribute, and the second column is percent of total rows that have missing values for that attribute. Run the function and document takeaways from this on how you want to handle missing values. \n",
    "\n"
   ]
  },
  {
   "cell_type": "markdown",
   "id": "557ad8b2",
   "metadata": {},
   "source": [
    "\n",
    "<table>\n",
    "<thead>\n",
    "<tr>\n",
    "<th></th>\n",
    "<th align=\"right\">num_rows_missing</th>\n",
    "<th align=\"right\">pct_rows_missing</th>\n",
    "</tr>\n",
    "</thead>\n",
    "<tbody>\n",
    "<tr>\n",
    "<td>parcelid</td>\n",
    "<td align=\"right\">0</td>\n",
    "<td align=\"right\">0.000000</td>\n",
    "</tr>\n",
    "<tr>\n",
    "<td>airconditioningtypeid</td>\n",
    "<td align=\"right\">29041</td>\n",
    "<td align=\"right\">0.535486</td>\n",
    "</tr>\n",
    "<tr>\n",
    "<td>architecturalstyletypeid</td>\n",
    "<td align=\"right\">54232</td>\n",
    "<td align=\"right\">0.999982</td>\n",
    "</tr>\n",
    "</tbody>\n",
    "</table>\n",
    "\n"
   ]
  },
  {
   "cell_type": "code",
   "execution_count": null,
   "id": "b18e7410",
   "metadata": {},
   "outputs": [],
   "source": [
    "def describe_missing(df):\n",
    "    columns = df.columns.to_list()\n",
    "    num_rows_missing = []\n",
    "    pct_rows_missing = []\n",
    "    null_df = pd.DataFrame()\n",
    "    for column in columns:\n",
    "        num_rows_missing.append(df[column].isna().sum())\n",
    "        pct_rows_missing.append(df[column].isna().sum()/df[column].shape[0]*100)\n",
    "    null_df['attribute'] = columns\n",
    "    null_df['num_rows_missing'] = num_rows_missing\n",
    "    null_df['pct_rows_missing'] = pct_rows_missing\n",
    "    return null_df"
   ]
  },
  {
   "cell_type": "code",
   "execution_count": null,
   "id": "cc946a61",
   "metadata": {},
   "outputs": [],
   "source": [
    "describe_missing(df).sort_values(by=['pct_rows_missing'], ascending=False)\n"
   ]
  },
  {
   "cell_type": "code",
   "execution_count": null,
   "id": "a7e23b65",
   "metadata": {},
   "outputs": [],
   "source": [
    "missing = describe_missing(df).sort_values(by=['pct_rows_missing'], ascending=False)"
   ]
  },
  {
   "cell_type": "code",
   "execution_count": null,
   "id": "a837bfb8",
   "metadata": {},
   "outputs": [],
   "source": [
    "missing.head(51)"
   ]
  },
  {
   "cell_type": "markdown",
   "id": "387aea48",
   "metadata": {},
   "source": [
    "4. Write a function that takes in a dataframe and returns a dataframe with 3 columns: the number of columns missing, percent of columns missing, and number of rows with n columns missing. Run the function and document takeaways from this on how you want to handle missing values. \n",
    "\n"
   ]
  },
  {
   "cell_type": "markdown",
   "id": "278cc383",
   "metadata": {},
   "source": [
    "\n",
    "<table>\n",
    "<thead>\n",
    "<tr>\n",
    "<th>num_cols_missing</th>\n",
    "<th align=\"right\">pct_cols_missing</th>\n",
    "<th align=\"right\">num_rows</th>\n",
    "</tr>\n",
    "</thead>\n",
    "<tbody>\n",
    "<tr>\n",
    "<td>23</td>\n",
    "<td align=\"right\">38.333</td>\n",
    "<td align=\"right\">108</td>\n",
    "</tr>\n",
    "<tr>\n",
    "<td>24</td>\n",
    "<td align=\"right\">40.000</td>\n",
    "<td align=\"right\">123</td>\n",
    "</tr>\n",
    "<tr>\n",
    "<td>25</td>\n",
    "<td align=\"right\">41.667</td>\n",
    "<td align=\"right\">5280</td>\n",
    "</tr>\n",
    "</tbody>\n",
    "</table>\n"
   ]
  },
  {
   "cell_type": "code",
   "execution_count": null,
   "id": "3d762a6d",
   "metadata": {},
   "outputs": [],
   "source": [
    "def missing_columns(df):\n",
    "    columns = df.columns.to_list()\n",
    "    nulls_by_row = []\n",
    "    for i in range(df.shape[0]):\n",
    "        nulls_by_row.append(df.iloc[i].isna().sum())\n",
    "    df['null_count'] = nulls_by_row\n",
    "    df['pct_col_missing'] = df.null_count / len(columns)\n",
    "    df2 = df.pct_col_missing.value_counts().rename_axis('pct_col_missing').reset_index(name='num_rows')\n",
    "    df3 = df.null_count.value_counts().rename_axis('num_cols_missing').reset_index(name='num_rows').drop(columns=['num_rows'])\n",
    "    df = pd.concat([df3, df2], axis = 1)\n",
    "    return df     "
   ]
  },
  {
   "cell_type": "code",
   "execution_count": null,
   "id": "ffda929b",
   "metadata": {},
   "outputs": [],
   "source": [
    "missing_columns(df).sort_values(by=['num_cols_missing'], ascending=False)"
   ]
  },
  {
   "cell_type": "markdown",
   "id": "77925756",
   "metadata": {},
   "source": [
    "\n",
    "<h4 id=\"prepare\">Prepare</h4>\n",
    "<ol>\n",
    "<li>\n",
    "<p>Remove any properties that are likely to be something other than single unit properties. (e.g. no duplexes, no land/lot, ...). There are multiple ways to estimate that a property is a single unit, and there is not a single \"right\" answer. But for this exercise, do not purely filter by unitcnt as we did previously. Add some new logic that will reduce the number of properties that are falsely removed. You might want to use # bedrooms, square feet, unit type or the like to then identify those with unitcnt not defined.  </p>\n",
    "\n",
    "\n"
   ]
  },
  {
   "cell_type": "code",
   "execution_count": null,
   "id": "59ad94e5",
   "metadata": {},
   "outputs": [],
   "source": [
    "df.propertylandusedesc.isna().sum()\n"
   ]
  },
  {
   "cell_type": "code",
   "execution_count": null,
   "id": "f7ef05dc",
   "metadata": {},
   "outputs": [],
   "source": [
    "df.propertylandusedesc.value_counts()\n"
   ]
  },
  {
   "cell_type": "code",
   "execution_count": null,
   "id": "094dee3b",
   "metadata": {},
   "outputs": [],
   "source": []
  },
  {
   "cell_type": "code",
   "execution_count": null,
   "id": "771c4da6",
   "metadata": {},
   "outputs": [],
   "source": [
    "df = df[\n",
    "    (df.propertylandusedesc == 'Single Family Residential')|\n",
    "    (df.propertylandusedesc == 'Condominium')|\n",
    "    (df.propertylandusedesc == 'Planned Unit Development')|\n",
    "    (df.propertylandusedesc == 'Mobile Home')|\n",
    "    (df.propertylandusedesc == 'Manufactured, Modular, Prefabricated Homes')|\n",
    "    (df.propertylandusedesc == 'Residential General')\n",
    "       ]"
   ]
  },
  {
   "cell_type": "code",
   "execution_count": null,
   "id": "fe78763e",
   "metadata": {},
   "outputs": [],
   "source": [
    "shape2 = df.shape"
   ]
  },
  {
   "cell_type": "code",
   "execution_count": null,
   "id": "30720892",
   "metadata": {},
   "outputs": [],
   "source": [
    "#rows_d = shape1[0]-shape2[0]\n",
    "#columns_d = shape1[1]-shape2[1]\n",
    "\n",
    "print(f'Original shape: {shape1}')\n",
    "print(f'Current shape: {shape2}')\n",
    "print(f'Rows dropped: {shape1[0]-shape2[0]}')\n",
    "print(f'Columns dropped: {shape1[1]-shape2[1]}')"
   ]
  },
  {
   "cell_type": "code",
   "execution_count": null,
   "id": "70766cf6",
   "metadata": {},
   "outputs": [],
   "source": [
    "df.calculatedfinishedsquarefeet.describe()\n"
   ]
  },
  {
   "cell_type": "code",
   "execution_count": null,
   "id": "647f66ec",
   "metadata": {},
   "outputs": [],
   "source": [
    "# Removing rows where bedroomcnt == 0\n",
    "df = df[df.bedroomcnt > 0]"
   ]
  },
  {
   "cell_type": "code",
   "execution_count": null,
   "id": "f2a41639",
   "metadata": {},
   "outputs": [],
   "source": [
    "shape3 = df.shape\n",
    "print(f'Original shape: {shape1}')\n",
    "print(f'Last shape: {shape2}')\n",
    "print(f'Current shape: {shape3}')\n",
    "print()\n",
    "print(f'Total Rows dropped: {shape1[0]-shape3[0]}')\n",
    "print(f'Total Columns dropped: {shape1[1]-shape3[1]}')\n",
    "print()\n",
    "print(f'Rows dropped this step: {shape2[0]-shape3[0]}')\n",
    "print(f'Columns dropped this step: {shape2[1]-shape3[1]}')"
   ]
  },
  {
   "cell_type": "code",
   "execution_count": null,
   "id": "5833e2b9",
   "metadata": {},
   "outputs": [],
   "source": [
    "# Removing rows where unitcnt is greater than 1\n",
    "df = df[~(df.unitcnt > 1)]"
   ]
  },
  {
   "cell_type": "code",
   "execution_count": null,
   "id": "4ac0de5d",
   "metadata": {},
   "outputs": [],
   "source": [
    "shape4 = df.shape\n",
    "print(f'Original shape: {shape1}')\n",
    "print(f'Last shape: {shape3}')\n",
    "print(f'Current shape: {shape4}')\n",
    "print()\n",
    "print(f'Total Rows dropped: {shape1[0]-shape4[0]}')\n",
    "print(f'Total Columns dropped: {shape1[1]-shape4[1]}')\n",
    "print()\n",
    "print(f'Rows dropped this step: {shape3[0]-shape4[0]}')\n",
    "print(f'Columns dropped this step: {shape3[1]-shape4[1]}')"
   ]
  },
  {
   "cell_type": "markdown",
   "id": "daaaedca",
   "metadata": {},
   "source": [
    "2. <p>Create a function that will drop rows or columns based on the percent of values that are missing: handle_missing_values(df, prop_required_column, prop_required_row).  </p>\n",
    "<ul>\n",
    "<li>The input:<ul>\n",
    "<li>A dataframe</li>\n",
    "<li>A number between 0 and 1 that represents the proportion, for each column, of rows with non-missing values required to keep the column.  i.e. if prop_required_column = .6, then you are requiring a column to have at least 60% of values not-NA (no more than 40% missing).</li>\n",
    "<li>A number between 0 and 1 that represents the proportion, for each row, of columns/variables with non-missing values required to keep the row. For example, if prop_required_row = .75, then you are requiring a row to have at least 75% of variables with a non-missing value (no more that 25% missing). </li>\n",
    "</ul>\n",
    "</li>\n",
    "<li>The output:<ul>\n",
    "<li>The dataframe with the columns and rows dropped as indicated. <em>Be sure to drop the columns prior to the rows in your function.</em></li>\n",
    "</ul>\n",
    "</li>\n",
    "<li>hint:<ul>\n",
    "<li>Look up the dropna documentation. </li>\n",
    "<li>You will want to compute a threshold from your input values (prop_required) and total number of rows or columns.</li>\n",
    "<li>Make use of inplace, i.e. inplace=True/False.</li>\n",
    "</ul>\n"
   ]
  },
  {
   "cell_type": "code",
   "execution_count": null,
   "id": "afb39c4c",
   "metadata": {},
   "outputs": [],
   "source": [
    "df.head()\n"
   ]
  },
  {
   "cell_type": "code",
   "execution_count": null,
   "id": "0f961f1d",
   "metadata": {},
   "outputs": [],
   "source": [
    "def handle_missing_values(df, prop_required_column = .5, prop_required_row = .75):\n",
    "    threshold = int(round(prop_required_column*len(df.index),0))\n",
    "    df.dropna(axis=1, thresh=threshold, inplace=True)\n",
    "    threshold = int(round(prop_required_row*len(df.columns),0))\n",
    "    df.dropna(axis=0, thresh=threshold, inplace=True)\n",
    "    return df"
   ]
  },
  {
   "cell_type": "code",
   "execution_count": null,
   "id": "0dc65c1a",
   "metadata": {},
   "outputs": [],
   "source": [
    "handle_missing_values(df)\n"
   ]
  },
  {
   "cell_type": "code",
   "execution_count": null,
   "id": "a17592a7",
   "metadata": {},
   "outputs": [],
   "source": [
    "shape5 = df.shape\n",
    "print(f'Original shape: {shape1}')\n",
    "print(f'Last shape: {shape4}')\n",
    "print(f'Current shape: {shape5}')\n",
    "print()\n",
    "print(f'Total Rows dropped: {shape1[0]-shape5[0]}')\n",
    "print(f'Total Columns dropped: {shape1[1]-shape5[1]}')\n",
    "print()\n",
    "print(f'Rows dropped this step: {shape4[0]-shape5[0]}')\n",
    "print(f'Columns dropped this step: {shape4[1]-shape5[1]}')"
   ]
  },
  {
   "cell_type": "markdown",
   "id": "9b634b6e",
   "metadata": {},
   "source": [
    "3. Decide how to handle the remaining missing values: </p>\n",
    "<ul>\n",
    "<li>Fill with constant value.</li>\n",
    "<li>Impute with mean, median, mode.</li>\n",
    "<li>Drop row/column</li>\n",
    "</ul>\n",
    "</li>\n",
    "</ol>\n",
    "\n"
   ]
  },
  {
   "cell_type": "code",
   "execution_count": null,
   "id": "c6ecaebb",
   "metadata": {},
   "outputs": [],
   "source": [
    "describe_missing(df).sort_values(by=['pct_rows_missing'], ascending=False).head(17)\n"
   ]
  },
  {
   "cell_type": "code",
   "execution_count": null,
   "id": "91122440",
   "metadata": {},
   "outputs": [],
   "source": [
    "# Create a dictionary to reference later for the decision on each feature\n",
    "null_plans = {}"
   ]
  },
  {
   "cell_type": "code",
   "execution_count": null,
   "id": "2abeab2e",
   "metadata": {},
   "outputs": [],
   "source": [
    "# Building type id\n",
    "df.buildingqualitytypeid.describe()\n"
   ]
  },
  {
   "cell_type": "code",
   "execution_count": null,
   "id": "67dced95",
   "metadata": {},
   "outputs": [],
   "source": [
    "plt.hist(df.buildingqualitytypeid);\n"
   ]
  },
  {
   "cell_type": "markdown",
   "id": "585b7083",
   "metadata": {},
   "source": [
    "Tight sd around mean, roughly symmetrical, use mean"
   ]
  },
  {
   "cell_type": "code",
   "execution_count": null,
   "id": "7dfd9c3d",
   "metadata": {},
   "outputs": [],
   "source": [
    "null_plans['buildingqualitytypeid'] = 'mean'\n"
   ]
  },
  {
   "cell_type": "code",
   "execution_count": null,
   "id": "711c1b60",
   "metadata": {},
   "outputs": [],
   "source": [
    "bath_bed_df = df[['bathroomcnt','bedroomcnt','calculatedbathnbr']] \n",
    "bath_bed_df"
   ]
  },
  {
   "cell_type": "code",
   "execution_count": null,
   "id": "26acfa89",
   "metadata": {},
   "outputs": [],
   "source": [
    "bath_bed_df['diff']=bath_bed_df.bathroomcnt-bath_bed_df.calculatedbathnbr"
   ]
  },
  {
   "cell_type": "code",
   "execution_count": null,
   "id": "014c852a",
   "metadata": {},
   "outputs": [],
   "source": [
    "bath_bed_df.describe()"
   ]
  },
  {
   "cell_type": "markdown",
   "id": "50498857",
   "metadata": {},
   "source": [
    "No difference between calculated bathroom bumber and bathroom count, can drop `calculatedbathnbr` column"
   ]
  },
  {
   "cell_type": "code",
   "execution_count": null,
   "id": "97d6df8f",
   "metadata": {},
   "outputs": [],
   "source": [
    "null_plans['calculatedbathnbr'] = 'drop'\n"
   ]
  },
  {
   "cell_type": "code",
   "execution_count": null,
   "id": "05093b60",
   "metadata": {},
   "outputs": [],
   "source": [
    "df.head()"
   ]
  },
  {
   "cell_type": "code",
   "execution_count": null,
   "id": "2f6cfe4e",
   "metadata": {},
   "outputs": [],
   "source": [
    "# Calculated SF\n",
    "\n",
    "area_df = df[['calculatedfinishedsquarefeet','finishedsquarefeet12']] \n",
    "area_df['difference']=area_df.calculatedfinishedsquarefeet-area_df.finishedsquarefeet12\n",
    "area_df.describe()"
   ]
  },
  {
   "cell_type": "markdown",
   "id": "a26d8412",
   "metadata": {},
   "source": [
    "no difference between calculated and finished sf, drop calculatedsf columns"
   ]
  },
  {
   "cell_type": "code",
   "execution_count": null,
   "id": "32f3ccb8",
   "metadata": {},
   "outputs": [],
   "source": [
    "null_plans['calculatedfinishedsquarefeet'] = 'drop'\n"
   ]
  },
  {
   "cell_type": "code",
   "execution_count": null,
   "id": "c4193313",
   "metadata": {},
   "outputs": [],
   "source": [
    "# Finished sf\n",
    "plt.hist(df.finishedsquarefeet12, alpha=.7, histtype='step', label='finishedsquarefeet12');"
   ]
  },
  {
   "cell_type": "code",
   "execution_count": null,
   "id": "34039812",
   "metadata": {},
   "outputs": [],
   "source": []
  },
  {
   "cell_type": "code",
   "execution_count": null,
   "metadata": {},
   "outputs": [],
   "source": []
  },
  {
   "cell_type": "code",
   "execution_count": null,
   "id": "f3948f8a",
   "metadata": {},
   "outputs": [],
   "source": []
  },
  {
   "cell_type": "code",
   "execution_count": null,
   "id": "dc77d9b6",
   "metadata": {},
   "outputs": [],
   "source": []
  },
  {
   "cell_type": "code",
   "execution_count": null,
   "id": "497685fe",
   "metadata": {},
   "outputs": [],
   "source": []
  },
  {
   "cell_type": "code",
   "execution_count": null,
   "id": "3cf63b8a",
   "metadata": {},
   "outputs": [],
   "source": []
  },
  {
   "cell_type": "code",
   "execution_count": null,
   "id": "4960b044",
   "metadata": {},
   "outputs": [],
   "source": []
  },
  {
   "cell_type": "code",
   "execution_count": null,
   "id": "d5e109a5",
   "metadata": {},
   "outputs": [],
   "source": []
  },
  {
   "cell_type": "code",
   "execution_count": null,
   "id": "42d00dfb",
   "metadata": {},
   "outputs": [],
   "source": []
  },
  {
   "cell_type": "code",
   "execution_count": null,
   "id": "efc79b98",
   "metadata": {},
   "outputs": [],
   "source": []
  },
  {
   "cell_type": "markdown",
   "id": "d0e2e540",
   "metadata": {},
   "source": [
    "---"
   ]
  },
  {
   "cell_type": "markdown",
   "id": "990ef08b",
   "metadata": {},
   "source": [
    "\n",
    "<h4 id=\"wrangle_zillowpy\">wrangle_zillow.py</h4>\n",
    "<p>Functions of the work above needed to acquire and prepare a new sample of data. </p>\n"
   ]
  },
  {
   "cell_type": "code",
   "execution_count": null,
   "id": "46a36b88",
   "metadata": {},
   "outputs": [],
   "source": []
  },
  {
   "cell_type": "code",
   "execution_count": null,
   "id": "49cf8af8",
   "metadata": {},
   "outputs": [],
   "source": []
  },
  {
   "cell_type": "code",
   "execution_count": null,
   "id": "04e6dc8e",
   "metadata": {},
   "outputs": [],
   "source": []
  },
  {
   "cell_type": "markdown",
   "id": "41a61e17",
   "metadata": {},
   "source": [
    "---"
   ]
  },
  {
   "cell_type": "markdown",
   "id": "ea4a80d8",
   "metadata": {},
   "source": [
    "\n",
    "<h3 id=\"mall-customers\">Mall Customers</h3>\n",
    "<h4 id=\"notebook\">notebook</h4>\n",
    "<ol>\n",
    "<li>Acquire data from mall_customers.customers in mysql database. </li>\n",
    "\n"
   ]
  },
  {
   "cell_type": "code",
   "execution_count": null,
   "id": "63074e11",
   "metadata": {},
   "outputs": [],
   "source": []
  },
  {
   "cell_type": "markdown",
   "id": "82303fe1",
   "metadata": {},
   "source": [
    "\n",
    "2. Summarize data (include distributions and descriptive statistics).</li>\n",
    "\n"
   ]
  },
  {
   "cell_type": "code",
   "execution_count": null,
   "id": "ae81ad3c",
   "metadata": {},
   "outputs": [],
   "source": []
  },
  {
   "cell_type": "code",
   "execution_count": null,
   "id": "1acf4d4a",
   "metadata": {},
   "outputs": [],
   "source": []
  },
  {
   "cell_type": "markdown",
   "id": "40957053",
   "metadata": {},
   "source": [
    "3. Detect outliers using IQR.</li>\n",
    "\n"
   ]
  },
  {
   "cell_type": "code",
   "execution_count": null,
   "id": "70ab28db",
   "metadata": {},
   "outputs": [],
   "source": []
  },
  {
   "cell_type": "code",
   "execution_count": null,
   "id": "fc7f4fe4",
   "metadata": {},
   "outputs": [],
   "source": []
  },
  {
   "cell_type": "markdown",
   "id": "3a8b39f8",
   "metadata": {},
   "source": [
    "4. Split data (train, validate, and test split).</li>\n",
    "\n"
   ]
  },
  {
   "cell_type": "code",
   "execution_count": null,
   "id": "ed4d77b9",
   "metadata": {},
   "outputs": [],
   "source": []
  },
  {
   "cell_type": "code",
   "execution_count": null,
   "id": "f3e33fd7",
   "metadata": {},
   "outputs": [],
   "source": []
  },
  {
   "cell_type": "markdown",
   "id": "cb020313",
   "metadata": {},
   "source": [
    "5. Encode categorical columns using a one hot encoder (pd.get_dummies).</li>\n",
    "\n"
   ]
  },
  {
   "cell_type": "code",
   "execution_count": null,
   "id": "28547bf6",
   "metadata": {},
   "outputs": [],
   "source": []
  },
  {
   "cell_type": "code",
   "execution_count": null,
   "id": "3236681d",
   "metadata": {},
   "outputs": [],
   "source": []
  },
  {
   "cell_type": "code",
   "execution_count": null,
   "id": "54d6dbba",
   "metadata": {},
   "outputs": [],
   "source": []
  },
  {
   "cell_type": "markdown",
   "id": "c0ddee37",
   "metadata": {},
   "source": [
    "6. Handles missing values.</li>\n",
    "\n"
   ]
  },
  {
   "cell_type": "code",
   "execution_count": null,
   "id": "a8d8b9f7",
   "metadata": {},
   "outputs": [],
   "source": []
  },
  {
   "cell_type": "code",
   "execution_count": null,
   "id": "ea6adf62",
   "metadata": {},
   "outputs": [],
   "source": []
  },
  {
   "cell_type": "code",
   "execution_count": null,
   "id": "9af39f70",
   "metadata": {},
   "outputs": [],
   "source": []
  },
  {
   "cell_type": "markdown",
   "id": "adf66802",
   "metadata": {},
   "source": [
    "7. Scaling</li>\n",
    "\n"
   ]
  },
  {
   "cell_type": "code",
   "execution_count": null,
   "id": "1e288a5a",
   "metadata": {},
   "outputs": [],
   "source": []
  },
  {
   "cell_type": "code",
   "execution_count": null,
   "id": "570cd8c7",
   "metadata": {},
   "outputs": [],
   "source": []
  },
  {
   "cell_type": "markdown",
   "id": "46d0fc23",
   "metadata": {},
   "source": [
    "---"
   ]
  },
  {
   "cell_type": "markdown",
   "id": "83f5c6ce",
   "metadata": {},
   "source": [
    "\n",
    "</ol>\n",
    "<h4 id=\"wrangle_mallpy\">wrangle_mall.py</h4>\n"
   ]
  },
  {
   "cell_type": "markdown",
   "id": "f71f3a7e",
   "metadata": {},
   "source": [
    "\n",
    "<ol>\n",
    "<li>Acquire data from mall_customers.customers in mysql database. </li>\n",
    "\n"
   ]
  },
  {
   "cell_type": "code",
   "execution_count": null,
   "id": "65d309a4",
   "metadata": {},
   "outputs": [],
   "source": []
  },
  {
   "cell_type": "code",
   "execution_count": null,
   "id": "5c944832",
   "metadata": {},
   "outputs": [],
   "source": []
  },
  {
   "cell_type": "markdown",
   "id": "c448d315",
   "metadata": {},
   "source": [
    "2. Split the data into train, validate, and split</li>\n"
   ]
  },
  {
   "cell_type": "code",
   "execution_count": null,
   "id": "5054263c",
   "metadata": {},
   "outputs": [],
   "source": []
  },
  {
   "cell_type": "code",
   "execution_count": null,
   "id": "3e4c9bac",
   "metadata": {},
   "outputs": [],
   "source": []
  },
  {
   "cell_type": "code",
   "execution_count": null,
   "id": "a0b95a86",
   "metadata": {},
   "outputs": [],
   "source": []
  },
  {
   "cell_type": "markdown",
   "id": "88a35a84",
   "metadata": {},
   "source": [
    "3. One-hot-encoding (pd.get_dummies)</li>\n",
    "\n"
   ]
  },
  {
   "cell_type": "code",
   "execution_count": null,
   "id": "5734c69c",
   "metadata": {},
   "outputs": [],
   "source": []
  },
  {
   "cell_type": "code",
   "execution_count": null,
   "id": "ad7cbe1a",
   "metadata": {},
   "outputs": [],
   "source": []
  },
  {
   "cell_type": "markdown",
   "id": "4aa792d5",
   "metadata": {},
   "source": [
    "4. Missing values</li>\n",
    "\n"
   ]
  },
  {
   "cell_type": "code",
   "execution_count": null,
   "id": "ea20af89",
   "metadata": {},
   "outputs": [],
   "source": []
  },
  {
   "cell_type": "code",
   "execution_count": null,
   "id": "c3e9824a",
   "metadata": {},
   "outputs": [],
   "source": []
  },
  {
   "cell_type": "markdown",
   "id": "3c75a897",
   "metadata": {},
   "source": [
    "5. Scaling</li>\n",
    "</ol>"
   ]
  },
  {
   "cell_type": "code",
   "execution_count": null,
   "id": "801873a7",
   "metadata": {},
   "outputs": [],
   "source": []
  },
  {
   "cell_type": "code",
   "execution_count": null,
   "id": "6cb1c54d",
   "metadata": {},
   "outputs": [],
   "source": []
  },
  {
   "cell_type": "code",
   "execution_count": null,
   "id": "1f97b1fe",
   "metadata": {},
   "outputs": [],
   "source": []
  }
 ],
 "metadata": {
  "kernelspec": {
   "display_name": "Python 3",
   "language": "python",
   "name": "python3"
  },
  "language_info": {
   "codemirror_mode": {
    "name": "ipython",
    "version": 3
   },
   "file_extension": ".py",
   "mimetype": "text/x-python",
   "name": "python",
   "nbconvert_exporter": "python",
   "pygments_lexer": "ipython3",
   "version": "3.8.8"
  }
 },
 "nbformat": 4,
 "nbformat_minor": 5
}
