{
 "cells": [
  {
   "cell_type": "markdown",
   "id": "2042d96a",
   "metadata": {},
   "source": [
    "<h2 id=\"exercises\">Exercises</h2>\n"
   ]
  },
  {
   "cell_type": "markdown",
   "id": "7a59dcb9",
   "metadata": {},
   "source": [
    "<p>Do your work for this exercise in a notebook named <code>modeling</code> within your <code>clustering-exercises</code> repository.</p>\n"
   ]
  },
  {
   "cell_type": "markdown",
   "id": "fb1e2b0b",
   "metadata": {},
   "source": [
    "\n",
    "b"
   ]
  },
  {
   "cell_type": "markdown",
   "metadata": {},
   "source": [
    "1. Clustering with the Iris Dataset\n",
    "Using this lesson as a guide, perform clustering on the iris dataset.\n",
    "\n",
    "    a. Choose features other than the ones used in the lesson.\n",
    "\n",
    "    b. Visualize the results of your clustering.\n",
    "\n",
    "    c. Use the elbow method to visually select a good value for `k`\n",
    "    \n",
    "    d. Repeat the clustering, this time with 3 different features.\n",
    "\n"
   ]
  },
  {
   "cell_type": "code",
   "execution_count": null,
   "id": "1b9f9cad",
   "metadata": {},
   "outputs": [],
   "source": []
  },
  {
   "cell_type": "code",
   "execution_count": null,
   "id": "140a2466",
   "metadata": {},
   "outputs": [],
   "source": []
  },
  {
   "cell_type": "code",
   "execution_count": null,
   "id": "f7f26600",
   "metadata": {},
   "outputs": [],
   "source": []
  },
  {
   "cell_type": "markdown",
   "id": "be78d877",
   "metadata": {},
   "source": [
    "2. Use the techniques discussed in this lesson, as well as the insights gained from the exploration exercise to perform clustering on the mall customers dataset. Be sure to visualize your results!\n"
   ]
  },
  {
   "cell_type": "code",
   "execution_count": null,
   "id": "2f3c9dd9",
   "metadata": {},
   "outputs": [],
   "source": []
  },
  {
   "cell_type": "markdown",
   "id": "a0ac0159",
   "metadata": {},
   "source": [
    "\n",
    "\n",
    "3. How does scaling impact the results of clustering?\n",
    "\n",
    "\n",
    "Compare k-means clustering results on scaled and unscaled data (you can choose any dataset for this exercise OR use the data/steps outlined in the bonus below). You can show how the resulting clusters differ either with descriptive statistics or visually.\n",
    "\n"
   ]
  },
  {
   "cell_type": "code",
   "execution_count": null,
   "id": "79ce4310",
   "metadata": {},
   "outputs": [],
   "source": []
  },
  {
   "cell_type": "markdown",
   "id": "09e11320",
   "metadata": {},
   "source": [
    "\n",
    "<p><strong>Bonus</strong><br />\n",
    "a) Read in the data from this google sheet: https://docs.google.com/spreadsheets/d/1j5EgXVTR5ikUj3G5ZCQmkq6ziz_gvtASGAdw23-5_6M/edit?usp=sharing<br />\n",
    "b) Visualize the data and guess the number and shape of the clusters.<br />\n",
    "c) Implement the KMeans algorithm on unscaled data and visualize the clusters.<br />\n",
    "d) Repeat the step above but with scaled data.  <br />\n",
    "c) Write down the takeaways from this exercise.</p>"
   ]
  },
  {
   "cell_type": "markdown",
   "id": "63ca8baf",
   "metadata": {},
   "source": []
  }
 ],
 "metadata": {
  "kernelspec": {
   "display_name": "Python 3 (ipykernel)",
   "language": "python",
   "name": "python3"
  },
  "language_info": {
   "codemirror_mode": {
    "name": "ipython",
    "version": 3
   },
   "file_extension": ".py",
   "mimetype": "text/x-python",
   "name": "python",
   "nbconvert_exporter": "python",
   "pygments_lexer": "ipython3",
   "version": "3.8.12"
  }
 },
 "nbformat": 4,
 "nbformat_minor": 5
}
